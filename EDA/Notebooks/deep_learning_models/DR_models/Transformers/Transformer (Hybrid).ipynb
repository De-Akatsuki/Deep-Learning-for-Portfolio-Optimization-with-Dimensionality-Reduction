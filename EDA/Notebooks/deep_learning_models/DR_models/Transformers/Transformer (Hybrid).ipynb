{
 "cells": [
  {
   "cell_type": "markdown",
   "metadata": {},
   "source": [
    "### Model 3: Transformer (With Dimensionality Reduction)\n",
    "Architecture\n",
    "Input: PCA-reduced features, reshaped for transformer input\n",
    "\n",
    "Layers: Transformer Encoder → Dense"
   ]
  },
  {
   "cell_type": "code",
   "execution_count": null,
   "metadata": {},
   "outputs": [],
   "source": [
    "from tensorflow.keras.layers import Input, Dense, LayerNormalization, MultiHeadAttention, Dropout, Flatten\n",
    "from tensorflow.keras.models import Model\n",
    "\n",
    "def build_transformer(input_shape, num_heads=4, ff_dim=64, num_layers=2):\n",
    "    inputs = Input(shape=input_shape)\n",
    "    x = inputs\n",
    "    for _ in range(num_layers):\n",
    "        attn_output = MultiHeadAttention(num_heads=num_heads, key_dim=ff_dim)(x, x)\n",
    "        x = LayerNormalization(epsilon=1e-6)(x + attn_output)\n",
    "        ffn_output = Dense(ff_dim, activation='relu')(x)\n",
    "        x = LayerNormalization(epsilon=1e-6)(x + ffn_output)\n",
    "    x = Flatten()(x)\n",
    "    outputs = Dense(1)(x)\n",
    "    return Model(inputs, outputs)\n",
    "\n",
    "# Reshape for transformer ([samples, timesteps, features])\n",
    "X_train_trans = X_train_reduced.reshape(-1, timesteps, X_train_reduced.shape[1] // timesteps)\n",
    "X_test_trans = X_test_reduced.reshape(-1, timesteps, X_test_reduced.shape[1] // timesteps)\n",
    "\n",
    "start_time = time.time()\n",
    "tracemalloc.start()\n",
    "\n",
    "transformer = build_transformer(X_train_trans.shape[1:])\n",
    "transformer.compile(optimizer='adam', loss='mse')\n",
    "\n",
    "history = transformer.fit(X_train_trans, y_train[:X_train_trans.shape[0]], epochs=100, batch_size=32, validation_split=0.2, verbose=0)\n",
    "\n",
    "train_time = time.time() - start_time\n",
    "current, peak = tracemalloc.get_traced_memory()\n",
    "tracemalloc.stop()\n",
    "epochs_to_converge = len(history.history['loss'])\n",
    "\n",
    "start_inf = time.time()\n",
    "y_pred = transformer.predict(X_test_trans)\n",
    "inf_time = time.time() - start_inf\n"
   ]
  }
 ],
 "metadata": {
  "language_info": {
   "name": "python"
  }
 },
 "nbformat": 4,
 "nbformat_minor": 2
}

{
 "cells": [
  {
   "cell_type": "markdown",
   "metadata": {},
   "source": [
    "### Data Preprocessing\n",
    "- We are going to clean the data to ensure that it is clean and functioning at all levels\n"
   ]
  },
  {
   "cell_type": "markdown",
   "metadata": {},
   "source": [
    "##### Raw Etf data"
   ]
  },
  {
   "cell_type": "code",
   "execution_count": 41,
   "metadata": {},
   "outputs": [
    {
     "data": {
      "application/vnd.microsoft.datawrangler.viewer.v0+json": {
       "columns": [
        {
         "name": "index",
         "rawType": "int64",
         "type": "integer"
        },
        {
         "name": "Ticker",
         "rawType": "object",
         "type": "string"
        },
        {
         "name": "Date",
         "rawType": "object",
         "type": "string"
        },
        {
         "name": "Close",
         "rawType": "float64",
         "type": "float"
        },
        {
         "name": "High",
         "rawType": "float64",
         "type": "float"
        },
        {
         "name": "Low",
         "rawType": "float64",
         "type": "float"
        },
        {
         "name": "Open",
         "rawType": "float64",
         "type": "float"
        },
        {
         "name": "Volume",
         "rawType": "int64",
         "type": "integer"
        }
       ],
       "ref": "77670e7a-d1dd-4d39-935b-8dc5c3b9f28e",
       "rows": [
        [
         "0",
         "SPY",
         "2015-06-15",
         "175.93960571289062",
         "176.22566960968038",
         "174.82898657710896",
         "175.54415915742354",
         "124384200"
        ],
        [
         "1",
         "SPY",
         "2015-06-16",
         "176.89877319335938",
         "176.98291567623102",
         "175.6114728031337",
         "175.78815404348757",
         "85308200"
        ],
        [
         "2",
         "SPY",
         "2015-06-17",
         "177.18482971191406",
         "177.79904156693894",
         "176.14994397507823",
         "177.18482971191406",
         "126708600"
        ],
        [
         "3",
         "SPY",
         "2015-06-18",
         "179.02749633789062",
         "179.49866355964795",
         "177.2185480032843",
         "177.79067596160567",
         "165867900"
        ],
        [
         "4",
         "SPY",
         "2015-06-19",
         "178.23269653320312",
         "178.8583460565819",
         "177.85223938958674",
         "178.78225720801623",
         "130478700"
        ]
       ],
       "shape": {
        "columns": 7,
        "rows": 5
       }
      },
      "text/html": [
       "<div>\n",
       "<style scoped>\n",
       "    .dataframe tbody tr th:only-of-type {\n",
       "        vertical-align: middle;\n",
       "    }\n",
       "\n",
       "    .dataframe tbody tr th {\n",
       "        vertical-align: top;\n",
       "    }\n",
       "\n",
       "    .dataframe thead th {\n",
       "        text-align: right;\n",
       "    }\n",
       "</style>\n",
       "<table border=\"1\" class=\"dataframe\">\n",
       "  <thead>\n",
       "    <tr style=\"text-align: right;\">\n",
       "      <th></th>\n",
       "      <th>Ticker</th>\n",
       "      <th>Date</th>\n",
       "      <th>Close</th>\n",
       "      <th>High</th>\n",
       "      <th>Low</th>\n",
       "      <th>Open</th>\n",
       "      <th>Volume</th>\n",
       "    </tr>\n",
       "  </thead>\n",
       "  <tbody>\n",
       "    <tr>\n",
       "      <th>0</th>\n",
       "      <td>SPY</td>\n",
       "      <td>2015-06-15</td>\n",
       "      <td>175.939606</td>\n",
       "      <td>176.225670</td>\n",
       "      <td>174.828987</td>\n",
       "      <td>175.544159</td>\n",
       "      <td>124384200</td>\n",
       "    </tr>\n",
       "    <tr>\n",
       "      <th>1</th>\n",
       "      <td>SPY</td>\n",
       "      <td>2015-06-16</td>\n",
       "      <td>176.898773</td>\n",
       "      <td>176.982916</td>\n",
       "      <td>175.611473</td>\n",
       "      <td>175.788154</td>\n",
       "      <td>85308200</td>\n",
       "    </tr>\n",
       "    <tr>\n",
       "      <th>2</th>\n",
       "      <td>SPY</td>\n",
       "      <td>2015-06-17</td>\n",
       "      <td>177.184830</td>\n",
       "      <td>177.799042</td>\n",
       "      <td>176.149944</td>\n",
       "      <td>177.184830</td>\n",
       "      <td>126708600</td>\n",
       "    </tr>\n",
       "    <tr>\n",
       "      <th>3</th>\n",
       "      <td>SPY</td>\n",
       "      <td>2015-06-18</td>\n",
       "      <td>179.027496</td>\n",
       "      <td>179.498664</td>\n",
       "      <td>177.218548</td>\n",
       "      <td>177.790676</td>\n",
       "      <td>165867900</td>\n",
       "    </tr>\n",
       "    <tr>\n",
       "      <th>4</th>\n",
       "      <td>SPY</td>\n",
       "      <td>2015-06-19</td>\n",
       "      <td>178.232697</td>\n",
       "      <td>178.858346</td>\n",
       "      <td>177.852239</td>\n",
       "      <td>178.782257</td>\n",
       "      <td>130478700</td>\n",
       "    </tr>\n",
       "  </tbody>\n",
       "</table>\n",
       "</div>"
      ],
      "text/plain": [
       "  Ticker        Date       Close        High         Low        Open  \\\n",
       "0    SPY  2015-06-15  175.939606  176.225670  174.828987  175.544159   \n",
       "1    SPY  2015-06-16  176.898773  176.982916  175.611473  175.788154   \n",
       "2    SPY  2015-06-17  177.184830  177.799042  176.149944  177.184830   \n",
       "3    SPY  2015-06-18  179.027496  179.498664  177.218548  177.790676   \n",
       "4    SPY  2015-06-19  178.232697  178.858346  177.852239  178.782257   \n",
       "\n",
       "      Volume  \n",
       "0  124384200  \n",
       "1   85308200  \n",
       "2  126708600  \n",
       "3  165867900  \n",
       "4  130478700  "
      ]
     },
     "execution_count": 41,
     "metadata": {},
     "output_type": "execute_result"
    }
   ],
   "source": [
    "import pandas as pd\n",
    "import numpy as np\n",
    "\n",
    "etf = \"/Users/imperator/Documents/STUDIES/UNIVERSITY OF GHANA/RESEARCH WORK/CORCHIL KELLY KWAME/PORTFOLIO OPTIMIZATION/PROJECT CODE/Dimensionality-Reduction-PortfolioOptimization/EDA/ETFs_datasets/Final_csv/1-combined_etfs.csv\"\n",
    "df = pd.read_csv(etf)\n",
    "df.head()\n",
    "\n"
   ]
  },
  {
   "cell_type": "code",
   "execution_count": 42,
   "metadata": {},
   "outputs": [
    {
     "name": "stdout",
     "output_type": "stream",
     "text": [
      "<class 'pandas.core.frame.DataFrame'>\n",
      "RangeIndex: 20120 entries, 0 to 20119\n",
      "Data columns (total 7 columns):\n",
      " #   Column  Non-Null Count  Dtype  \n",
      "---  ------  --------------  -----  \n",
      " 0   Ticker  20120 non-null  object \n",
      " 1   Date    20120 non-null  object \n",
      " 2   Close   20120 non-null  float64\n",
      " 3   High    20120 non-null  float64\n",
      " 4   Low     20120 non-null  float64\n",
      " 5   Open    20120 non-null  float64\n",
      " 6   Volume  20120 non-null  int64  \n",
      "dtypes: float64(4), int64(1), object(2)\n",
      "memory usage: 1.1+ MB\n"
     ]
    }
   ],
   "source": [
    "df.info()"
   ]
  },
  {
   "cell_type": "code",
   "execution_count": 43,
   "metadata": {},
   "outputs": [
    {
     "data": {
      "application/vnd.microsoft.datawrangler.viewer.v0+json": {
       "columns": [
        {
         "name": "index",
         "rawType": "int64",
         "type": "integer"
        },
        {
         "name": "Ticker",
         "rawType": "object",
         "type": "string"
        },
        {
         "name": "Date",
         "rawType": "object",
         "type": "string"
        },
        {
         "name": "Close",
         "rawType": "float64",
         "type": "float"
        },
        {
         "name": "High",
         "rawType": "float64",
         "type": "float"
        },
        {
         "name": "Low",
         "rawType": "float64",
         "type": "float"
        },
        {
         "name": "Open",
         "rawType": "float64",
         "type": "float"
        },
        {
         "name": "Volume",
         "rawType": "int64",
         "type": "integer"
        }
       ],
       "ref": "6e253fb6-3932-4d7f-b635-cded158d2893",
       "rows": [
        [
         "0",
         "SPY",
         "2015-06-15",
         "175.93960571289062",
         "176.22566960968038",
         "174.82898657710896",
         "175.54415915742354",
         "124384200"
        ],
        [
         "1",
         "SPY",
         "2015-06-16",
         "176.89877319335938",
         "176.98291567623102",
         "175.6114728031337",
         "175.78815404348757",
         "85308200"
        ],
        [
         "2",
         "SPY",
         "2015-06-17",
         "177.18482971191406",
         "177.79904156693894",
         "176.14994397507823",
         "177.18482971191406",
         "126708600"
        ],
        [
         "3",
         "SPY",
         "2015-06-18",
         "179.02749633789062",
         "179.49866355964795",
         "177.2185480032843",
         "177.79067596160567",
         "165867900"
        ],
        [
         "4",
         "SPY",
         "2015-06-19",
         "178.23269653320312",
         "178.8583460565819",
         "177.85223938958674",
         "178.78225720801623",
         "130478700"
        ]
       ],
       "shape": {
        "columns": 7,
        "rows": 5
       }
      },
      "text/html": [
       "<div>\n",
       "<style scoped>\n",
       "    .dataframe tbody tr th:only-of-type {\n",
       "        vertical-align: middle;\n",
       "    }\n",
       "\n",
       "    .dataframe tbody tr th {\n",
       "        vertical-align: top;\n",
       "    }\n",
       "\n",
       "    .dataframe thead th {\n",
       "        text-align: right;\n",
       "    }\n",
       "</style>\n",
       "<table border=\"1\" class=\"dataframe\">\n",
       "  <thead>\n",
       "    <tr style=\"text-align: right;\">\n",
       "      <th></th>\n",
       "      <th>Ticker</th>\n",
       "      <th>Date</th>\n",
       "      <th>Close</th>\n",
       "      <th>High</th>\n",
       "      <th>Low</th>\n",
       "      <th>Open</th>\n",
       "      <th>Volume</th>\n",
       "    </tr>\n",
       "  </thead>\n",
       "  <tbody>\n",
       "    <tr>\n",
       "      <th>0</th>\n",
       "      <td>SPY</td>\n",
       "      <td>2015-06-15</td>\n",
       "      <td>175.939606</td>\n",
       "      <td>176.225670</td>\n",
       "      <td>174.828987</td>\n",
       "      <td>175.544159</td>\n",
       "      <td>124384200</td>\n",
       "    </tr>\n",
       "    <tr>\n",
       "      <th>1</th>\n",
       "      <td>SPY</td>\n",
       "      <td>2015-06-16</td>\n",
       "      <td>176.898773</td>\n",
       "      <td>176.982916</td>\n",
       "      <td>175.611473</td>\n",
       "      <td>175.788154</td>\n",
       "      <td>85308200</td>\n",
       "    </tr>\n",
       "    <tr>\n",
       "      <th>2</th>\n",
       "      <td>SPY</td>\n",
       "      <td>2015-06-17</td>\n",
       "      <td>177.184830</td>\n",
       "      <td>177.799042</td>\n",
       "      <td>176.149944</td>\n",
       "      <td>177.184830</td>\n",
       "      <td>126708600</td>\n",
       "    </tr>\n",
       "    <tr>\n",
       "      <th>3</th>\n",
       "      <td>SPY</td>\n",
       "      <td>2015-06-18</td>\n",
       "      <td>179.027496</td>\n",
       "      <td>179.498664</td>\n",
       "      <td>177.218548</td>\n",
       "      <td>177.790676</td>\n",
       "      <td>165867900</td>\n",
       "    </tr>\n",
       "    <tr>\n",
       "      <th>4</th>\n",
       "      <td>SPY</td>\n",
       "      <td>2015-06-19</td>\n",
       "      <td>178.232697</td>\n",
       "      <td>178.858346</td>\n",
       "      <td>177.852239</td>\n",
       "      <td>178.782257</td>\n",
       "      <td>130478700</td>\n",
       "    </tr>\n",
       "  </tbody>\n",
       "</table>\n",
       "</div>"
      ],
      "text/plain": [
       "  Ticker        Date       Close        High         Low        Open  \\\n",
       "0    SPY  2015-06-15  175.939606  176.225670  174.828987  175.544159   \n",
       "1    SPY  2015-06-16  176.898773  176.982916  175.611473  175.788154   \n",
       "2    SPY  2015-06-17  177.184830  177.799042  176.149944  177.184830   \n",
       "3    SPY  2015-06-18  179.027496  179.498664  177.218548  177.790676   \n",
       "4    SPY  2015-06-19  178.232697  178.858346  177.852239  178.782257   \n",
       "\n",
       "      Volume  \n",
       "0  124384200  \n",
       "1   85308200  \n",
       "2  126708600  \n",
       "3  165867900  \n",
       "4  130478700  "
      ]
     },
     "execution_count": 43,
     "metadata": {},
     "output_type": "execute_result"
    }
   ],
   "source": [
    "# Strip spaces & whitespaces from column names\n",
    "df.columns = df.columns.str.strip()\n",
    "df.columns = df.columns.str.replace(' ', '')\n",
    "df.head()"
   ]
  },
  {
   "cell_type": "code",
   "execution_count": 44,
   "metadata": {},
   "outputs": [
    {
     "data": {
      "application/vnd.microsoft.datawrangler.viewer.v0+json": {
       "columns": [
        {
         "name": "index",
         "rawType": "int64",
         "type": "integer"
        },
        {
         "name": "Ticker",
         "rawType": "object",
         "type": "string"
        },
        {
         "name": "Date",
         "rawType": "object",
         "type": "string"
        },
        {
         "name": "Close",
         "rawType": "float64",
         "type": "float"
        },
        {
         "name": "High",
         "rawType": "float64",
         "type": "float"
        },
        {
         "name": "Low",
         "rawType": "float64",
         "type": "float"
        },
        {
         "name": "Open",
         "rawType": "float64",
         "type": "float"
        },
        {
         "name": "Volume",
         "rawType": "int64",
         "type": "integer"
        }
       ],
       "ref": "8a61fd10-3cad-42ef-ba76-b7079cb83894",
       "rows": [
        [
         "0",
         "SPY",
         "2015-06-15",
         "175.93960571289062",
         "176.22566960968038",
         "174.82898657710896",
         "175.54415915742354",
         "124384200"
        ],
        [
         "1",
         "SPY",
         "2015-06-16",
         "176.89877319335938",
         "176.98291567623102",
         "175.6114728031337",
         "175.78815404348757",
         "85308200"
        ],
        [
         "2",
         "SPY",
         "2015-06-17",
         "177.18482971191406",
         "177.79904156693894",
         "176.14994397507823",
         "177.18482971191406",
         "126708600"
        ],
        [
         "3",
         "SPY",
         "2015-06-18",
         "179.02749633789062",
         "179.49866355964795",
         "177.2185480032843",
         "177.79067596160567",
         "165867900"
        ],
        [
         "4",
         "SPY",
         "2015-06-19",
         "178.23269653320312",
         "178.8583460565819",
         "177.85223938958674",
         "178.78225720801623",
         "130478700"
        ]
       ],
       "shape": {
        "columns": 7,
        "rows": 5
       }
      },
      "text/html": [
       "<div>\n",
       "<style scoped>\n",
       "    .dataframe tbody tr th:only-of-type {\n",
       "        vertical-align: middle;\n",
       "    }\n",
       "\n",
       "    .dataframe tbody tr th {\n",
       "        vertical-align: top;\n",
       "    }\n",
       "\n",
       "    .dataframe thead th {\n",
       "        text-align: right;\n",
       "    }\n",
       "</style>\n",
       "<table border=\"1\" class=\"dataframe\">\n",
       "  <thead>\n",
       "    <tr style=\"text-align: right;\">\n",
       "      <th></th>\n",
       "      <th>Ticker</th>\n",
       "      <th>Date</th>\n",
       "      <th>Close</th>\n",
       "      <th>High</th>\n",
       "      <th>Low</th>\n",
       "      <th>Open</th>\n",
       "      <th>Volume</th>\n",
       "    </tr>\n",
       "  </thead>\n",
       "  <tbody>\n",
       "    <tr>\n",
       "      <th>0</th>\n",
       "      <td>SPY</td>\n",
       "      <td>2015-06-15</td>\n",
       "      <td>175.939606</td>\n",
       "      <td>176.225670</td>\n",
       "      <td>174.828987</td>\n",
       "      <td>175.544159</td>\n",
       "      <td>124384200</td>\n",
       "    </tr>\n",
       "    <tr>\n",
       "      <th>1</th>\n",
       "      <td>SPY</td>\n",
       "      <td>2015-06-16</td>\n",
       "      <td>176.898773</td>\n",
       "      <td>176.982916</td>\n",
       "      <td>175.611473</td>\n",
       "      <td>175.788154</td>\n",
       "      <td>85308200</td>\n",
       "    </tr>\n",
       "    <tr>\n",
       "      <th>2</th>\n",
       "      <td>SPY</td>\n",
       "      <td>2015-06-17</td>\n",
       "      <td>177.184830</td>\n",
       "      <td>177.799042</td>\n",
       "      <td>176.149944</td>\n",
       "      <td>177.184830</td>\n",
       "      <td>126708600</td>\n",
       "    </tr>\n",
       "    <tr>\n",
       "      <th>3</th>\n",
       "      <td>SPY</td>\n",
       "      <td>2015-06-18</td>\n",
       "      <td>179.027496</td>\n",
       "      <td>179.498664</td>\n",
       "      <td>177.218548</td>\n",
       "      <td>177.790676</td>\n",
       "      <td>165867900</td>\n",
       "    </tr>\n",
       "    <tr>\n",
       "      <th>4</th>\n",
       "      <td>SPY</td>\n",
       "      <td>2015-06-19</td>\n",
       "      <td>178.232697</td>\n",
       "      <td>178.858346</td>\n",
       "      <td>177.852239</td>\n",
       "      <td>178.782257</td>\n",
       "      <td>130478700</td>\n",
       "    </tr>\n",
       "  </tbody>\n",
       "</table>\n",
       "</div>"
      ],
      "text/plain": [
       "  Ticker        Date       Close        High         Low        Open  \\\n",
       "0    SPY  2015-06-15  175.939606  176.225670  174.828987  175.544159   \n",
       "1    SPY  2015-06-16  176.898773  176.982916  175.611473  175.788154   \n",
       "2    SPY  2015-06-17  177.184830  177.799042  176.149944  177.184830   \n",
       "3    SPY  2015-06-18  179.027496  179.498664  177.218548  177.790676   \n",
       "4    SPY  2015-06-19  178.232697  178.858346  177.852239  178.782257   \n",
       "\n",
       "      Volume  \n",
       "0  124384200  \n",
       "1   85308200  \n",
       "2  126708600  \n",
       "3  165867900  \n",
       "4  130478700  "
      ]
     },
     "execution_count": 44,
     "metadata": {},
     "output_type": "execute_result"
    }
   ],
   "source": [
    "df['Ticker'] = df['Ticker'].astype(str)\n",
    "df.head()\n",
    "#convert the ticker to string\n"
   ]
  },
  {
   "cell_type": "code",
   "execution_count": 45,
   "metadata": {},
   "outputs": [
    {
     "data": {
      "text/plain": [
       "Index(['Ticker', 'Date', 'Close', 'High', 'Low', 'Open', 'Volume'], dtype='object')"
      ]
     },
     "execution_count": 45,
     "metadata": {},
     "output_type": "execute_result"
    }
   ],
   "source": [
    "df.columns"
   ]
  },
  {
   "cell_type": "code",
   "execution_count": 46,
   "metadata": {},
   "outputs": [
    {
     "name": "stdout",
     "output_type": "stream",
     "text": [
      "No null values found in the Date column.\n",
      "Rows with null dates:\n",
      "Empty DataFrame\n",
      "Columns: [Ticker, Date, Close, High, Low, Open, Volume]\n",
      "Index: []\n"
     ]
    }
   ],
   "source": [
    "# convert the date column to datetime\n",
    "df['Date'] = pd.to_datetime(df['Date'], format='%Y-%m-%d', errors='coerce')\n",
    "# Check for null values in the Date column\n",
    "null_dates = df['Date'].isnull().sum()\n",
    "if null_dates > 0:\n",
    "    print(f\"Warning: {null_dates} null values found in the Date column.\")\n",
    "else:\n",
    "    print(\"No null values found in the Date column.\")\n",
    "\n",
    "#show the date column that are null\n",
    "null_date_rows = df[df['Date'].isnull()]\n",
    "print(\"Rows with null dates:\")\n",
    "print(null_date_rows)\n"
   ]
  },
  {
   "cell_type": "code",
   "execution_count": 47,
   "metadata": {},
   "outputs": [
    {
     "name": "stdout",
     "output_type": "stream",
     "text": [
      "Shape of DataFrame after dropping null dates: (20120, 7)\n"
     ]
    },
    {
     "data": {
      "application/vnd.microsoft.datawrangler.viewer.v0+json": {
       "columns": [
        {
         "name": "index",
         "rawType": "int64",
         "type": "integer"
        },
        {
         "name": "Ticker",
         "rawType": "object",
         "type": "string"
        },
        {
         "name": "Date",
         "rawType": "datetime64[ns]",
         "type": "datetime"
        },
        {
         "name": "Close",
         "rawType": "float64",
         "type": "float"
        },
        {
         "name": "High",
         "rawType": "float64",
         "type": "float"
        },
        {
         "name": "Low",
         "rawType": "float64",
         "type": "float"
        },
        {
         "name": "Open",
         "rawType": "float64",
         "type": "float"
        },
        {
         "name": "Volume",
         "rawType": "int64",
         "type": "integer"
        }
       ],
       "ref": "da80c9d2-9bc8-4a4c-9539-25a6643dbb34",
       "rows": [
        [
         "0",
         "SPY",
         "2015-06-15 00:00:00",
         "175.93960571289062",
         "176.22566960968038",
         "174.82898657710896",
         "175.54415915742354",
         "124384200"
        ],
        [
         "1",
         "SPY",
         "2015-06-16 00:00:00",
         "176.89877319335938",
         "176.98291567623102",
         "175.6114728031337",
         "175.78815404348757",
         "85308200"
        ],
        [
         "2",
         "SPY",
         "2015-06-17 00:00:00",
         "177.18482971191406",
         "177.79904156693894",
         "176.14994397507823",
         "177.18482971191406",
         "126708600"
        ],
        [
         "3",
         "SPY",
         "2015-06-18 00:00:00",
         "179.02749633789062",
         "179.49866355964795",
         "177.2185480032843",
         "177.79067596160567",
         "165867900"
        ],
        [
         "4",
         "SPY",
         "2015-06-19 00:00:00",
         "178.23269653320312",
         "178.8583460565819",
         "177.85223938958674",
         "178.78225720801623",
         "130478700"
        ]
       ],
       "shape": {
        "columns": 7,
        "rows": 5
       }
      },
      "text/html": [
       "<div>\n",
       "<style scoped>\n",
       "    .dataframe tbody tr th:only-of-type {\n",
       "        vertical-align: middle;\n",
       "    }\n",
       "\n",
       "    .dataframe tbody tr th {\n",
       "        vertical-align: top;\n",
       "    }\n",
       "\n",
       "    .dataframe thead th {\n",
       "        text-align: right;\n",
       "    }\n",
       "</style>\n",
       "<table border=\"1\" class=\"dataframe\">\n",
       "  <thead>\n",
       "    <tr style=\"text-align: right;\">\n",
       "      <th></th>\n",
       "      <th>Ticker</th>\n",
       "      <th>Date</th>\n",
       "      <th>Close</th>\n",
       "      <th>High</th>\n",
       "      <th>Low</th>\n",
       "      <th>Open</th>\n",
       "      <th>Volume</th>\n",
       "    </tr>\n",
       "  </thead>\n",
       "  <tbody>\n",
       "    <tr>\n",
       "      <th>0</th>\n",
       "      <td>SPY</td>\n",
       "      <td>2015-06-15</td>\n",
       "      <td>175.939606</td>\n",
       "      <td>176.225670</td>\n",
       "      <td>174.828987</td>\n",
       "      <td>175.544159</td>\n",
       "      <td>124384200</td>\n",
       "    </tr>\n",
       "    <tr>\n",
       "      <th>1</th>\n",
       "      <td>SPY</td>\n",
       "      <td>2015-06-16</td>\n",
       "      <td>176.898773</td>\n",
       "      <td>176.982916</td>\n",
       "      <td>175.611473</td>\n",
       "      <td>175.788154</td>\n",
       "      <td>85308200</td>\n",
       "    </tr>\n",
       "    <tr>\n",
       "      <th>2</th>\n",
       "      <td>SPY</td>\n",
       "      <td>2015-06-17</td>\n",
       "      <td>177.184830</td>\n",
       "      <td>177.799042</td>\n",
       "      <td>176.149944</td>\n",
       "      <td>177.184830</td>\n",
       "      <td>126708600</td>\n",
       "    </tr>\n",
       "    <tr>\n",
       "      <th>3</th>\n",
       "      <td>SPY</td>\n",
       "      <td>2015-06-18</td>\n",
       "      <td>179.027496</td>\n",
       "      <td>179.498664</td>\n",
       "      <td>177.218548</td>\n",
       "      <td>177.790676</td>\n",
       "      <td>165867900</td>\n",
       "    </tr>\n",
       "    <tr>\n",
       "      <th>4</th>\n",
       "      <td>SPY</td>\n",
       "      <td>2015-06-19</td>\n",
       "      <td>178.232697</td>\n",
       "      <td>178.858346</td>\n",
       "      <td>177.852239</td>\n",
       "      <td>178.782257</td>\n",
       "      <td>130478700</td>\n",
       "    </tr>\n",
       "  </tbody>\n",
       "</table>\n",
       "</div>"
      ],
      "text/plain": [
       "  Ticker       Date       Close        High         Low        Open     Volume\n",
       "0    SPY 2015-06-15  175.939606  176.225670  174.828987  175.544159  124384200\n",
       "1    SPY 2015-06-16  176.898773  176.982916  175.611473  175.788154   85308200\n",
       "2    SPY 2015-06-17  177.184830  177.799042  176.149944  177.184830  126708600\n",
       "3    SPY 2015-06-18  179.027496  179.498664  177.218548  177.790676  165867900\n",
       "4    SPY 2015-06-19  178.232697  178.858346  177.852239  178.782257  130478700"
      ]
     },
     "execution_count": 47,
     "metadata": {},
     "output_type": "execute_result"
    }
   ],
   "source": [
    "#drop all the 7 null values in the date column, delete those rows\n",
    "df = df.dropna(subset=['Date'])\n",
    "# Reset the index after dropping rows\n",
    "df.reset_index(drop=True, inplace=True)\n",
    "# Check the shape of the DataFrame after dropping null dates\n",
    "print(f\"Shape of DataFrame after dropping null dates: {df.shape}\")\n",
    "df.head()"
   ]
  },
  {
   "cell_type": "code",
   "execution_count": 48,
   "metadata": {},
   "outputs": [
    {
     "name": "stdout",
     "output_type": "stream",
     "text": [
      "No null values found in numeric columns.\n"
     ]
    }
   ],
   "source": [
    "#convert all the other colomns aside date and ticker to numeric; float\n",
    "numeric_columns = df.columns.difference(['Date', 'Ticker'])\n",
    "for col in numeric_columns:\n",
    "    df[col] = pd.to_numeric(df[col], errors='coerce')\n",
    "# Check for null values in the numeric columns\n",
    "null_numeric = df[numeric_columns].isnull().sum()\n",
    "if null_numeric.any():\n",
    "    print(\"Warning: Null values found in the following numeric columns:\")\n",
    "    print(null_numeric[null_numeric > 0])\n",
    "else:\n",
    "    print(\"No null values found in numeric columns.\")\n"
   ]
  },
  {
   "cell_type": "code",
   "execution_count": 49,
   "metadata": {},
   "outputs": [
    {
     "name": "stdout",
     "output_type": "stream",
     "text": [
      "<class 'pandas.core.frame.DataFrame'>\n",
      "RangeIndex: 20120 entries, 0 to 20119\n",
      "Data columns (total 7 columns):\n",
      " #   Column  Non-Null Count  Dtype         \n",
      "---  ------  --------------  -----         \n",
      " 0   Ticker  20120 non-null  object        \n",
      " 1   Date    20120 non-null  datetime64[ns]\n",
      " 2   Close   20120 non-null  float64       \n",
      " 3   High    20120 non-null  float64       \n",
      " 4   Low     20120 non-null  float64       \n",
      " 5   Open    20120 non-null  float64       \n",
      " 6   Volume  20120 non-null  int64         \n",
      "dtypes: datetime64[ns](1), float64(4), int64(1), object(1)\n",
      "memory usage: 1.1+ MB\n"
     ]
    }
   ],
   "source": [
    "df.info()"
   ]
  },
  {
   "cell_type": "code",
   "execution_count": 50,
   "metadata": {},
   "outputs": [],
   "source": [
    "df.to_csv('/Users/imperator/Documents/STUDIES/UNIVERSITY OF GHANA/RESEARCH WORK/CORCHIL KELLY KWAME/PORTFOLIO OPTIMIZATION/PROJECT CODE/Dimensionality-Reduction-PortfolioOptimization/EDA/ETFs_datasets/Final_csv/1-combined_etfs.csv', index=False)"
   ]
  },
  {
   "cell_type": "markdown",
   "metadata": {},
   "source": [
    "##### MACRO DATA FROM FRED"
   ]
  },
  {
   "cell_type": "code",
   "execution_count": 55,
   "metadata": {},
   "outputs": [
    {
     "data": {
      "application/vnd.microsoft.datawrangler.viewer.v0+json": {
       "columns": [
        {
         "name": "index",
         "rawType": "int64",
         "type": "integer"
        },
        {
         "name": "Unnamed: 0",
         "rawType": "object",
         "type": "string"
        },
        {
         "name": "cpi",
         "rawType": "float64",
         "type": "float"
        },
        {
         "name": "core_cpi",
         "rawType": "float64",
         "type": "float"
        },
        {
         "name": "pce_price_index",
         "rawType": "float64",
         "type": "float"
        },
        {
         "name": "real_gdp",
         "rawType": "float64",
         "type": "float"
        },
        {
         "name": "industrial_production",
         "rawType": "float64",
         "type": "float"
        },
        {
         "name": "durable_goods_orders",
         "rawType": "float64",
         "type": "float"
        },
        {
         "name": "unemployment_rate",
         "rawType": "float64",
         "type": "float"
        },
        {
         "name": "nonfarm_payrolls",
         "rawType": "float64",
         "type": "float"
        },
        {
         "name": "jobless_claims",
         "rawType": "float64",
         "type": "float"
        },
        {
         "name": "fed_funds_rate",
         "rawType": "float64",
         "type": "float"
        },
        {
         "name": "treasury_10y",
         "rawType": "float64",
         "type": "float"
        },
        {
         "name": "treasury_3m",
         "rawType": "float64",
         "type": "float"
        },
        {
         "name": "baa_yield",
         "rawType": "float64",
         "type": "float"
        },
        {
         "name": "aaa_yield",
         "rawType": "float64",
         "type": "float"
        },
        {
         "name": "consumer_credit",
         "rawType": "float64",
         "type": "float"
        },
        {
         "name": "mortgage_rate_30y",
         "rawType": "float64",
         "type": "float"
        },
        {
         "name": "housing_starts",
         "rawType": "float64",
         "type": "float"
        },
        {
         "name": "building_permits",
         "rawType": "float64",
         "type": "float"
        },
        {
         "name": "new_home_sales",
         "rawType": "float64",
         "type": "float"
        },
        {
         "name": "umich_consumer_sentiment",
         "rawType": "float64",
         "type": "float"
        }
       ],
       "ref": "ba25a08b-ed74-4021-a966-e401d7927e90",
       "rows": [
        [
         "0",
         "1947-01-01",
         "21.48",
         null,
         null,
         "2182.681",
         "13.6554",
         null,
         null,
         "43535.0",
         null,
         null,
         null,
         null,
         null,
         null,
         "9770.2",
         null,
         null,
         null,
         null,
         null
        ],
        [
         "1",
         "1947-02-01",
         "21.62",
         null,
         null,
         null,
         "13.7361",
         null,
         null,
         "43557.0",
         null,
         null,
         null,
         null,
         null,
         null,
         "10089.0",
         null,
         null,
         null,
         null,
         null
        ],
        [
         "2",
         "1947-03-01",
         "22.0",
         null,
         null,
         null,
         "13.8167",
         null,
         null,
         "43607.0",
         null,
         null,
         null,
         null,
         null,
         null,
         "10345.85",
         null,
         null,
         null,
         null,
         null
        ],
        [
         "3",
         "1947-04-01",
         "22.0",
         null,
         null,
         "2176.892",
         "13.7092",
         null,
         null,
         "43499.0",
         null,
         null,
         null,
         null,
         null,
         null,
         "10645.94",
         null,
         null,
         null,
         null,
         null
        ],
        [
         "4",
         "1947-05-01",
         "21.95",
         null,
         null,
         null,
         "13.7629",
         null,
         null,
         "43638.0",
         null,
         null,
         null,
         null,
         null,
         null,
         "10926.31",
         null,
         null,
         null,
         null,
         null
        ]
       ],
       "shape": {
        "columns": 21,
        "rows": 5
       }
      },
      "text/html": [
       "<div>\n",
       "<style scoped>\n",
       "    .dataframe tbody tr th:only-of-type {\n",
       "        vertical-align: middle;\n",
       "    }\n",
       "\n",
       "    .dataframe tbody tr th {\n",
       "        vertical-align: top;\n",
       "    }\n",
       "\n",
       "    .dataframe thead th {\n",
       "        text-align: right;\n",
       "    }\n",
       "</style>\n",
       "<table border=\"1\" class=\"dataframe\">\n",
       "  <thead>\n",
       "    <tr style=\"text-align: right;\">\n",
       "      <th></th>\n",
       "      <th>Unnamed: 0</th>\n",
       "      <th>cpi</th>\n",
       "      <th>core_cpi</th>\n",
       "      <th>pce_price_index</th>\n",
       "      <th>real_gdp</th>\n",
       "      <th>industrial_production</th>\n",
       "      <th>durable_goods_orders</th>\n",
       "      <th>unemployment_rate</th>\n",
       "      <th>nonfarm_payrolls</th>\n",
       "      <th>jobless_claims</th>\n",
       "      <th>...</th>\n",
       "      <th>treasury_10y</th>\n",
       "      <th>treasury_3m</th>\n",
       "      <th>baa_yield</th>\n",
       "      <th>aaa_yield</th>\n",
       "      <th>consumer_credit</th>\n",
       "      <th>mortgage_rate_30y</th>\n",
       "      <th>housing_starts</th>\n",
       "      <th>building_permits</th>\n",
       "      <th>new_home_sales</th>\n",
       "      <th>umich_consumer_sentiment</th>\n",
       "    </tr>\n",
       "  </thead>\n",
       "  <tbody>\n",
       "    <tr>\n",
       "      <th>0</th>\n",
       "      <td>1947-01-01</td>\n",
       "      <td>21.48</td>\n",
       "      <td>NaN</td>\n",
       "      <td>NaN</td>\n",
       "      <td>2182.681</td>\n",
       "      <td>13.6554</td>\n",
       "      <td>NaN</td>\n",
       "      <td>NaN</td>\n",
       "      <td>43535.0</td>\n",
       "      <td>NaN</td>\n",
       "      <td>...</td>\n",
       "      <td>NaN</td>\n",
       "      <td>NaN</td>\n",
       "      <td>NaN</td>\n",
       "      <td>NaN</td>\n",
       "      <td>9770.20</td>\n",
       "      <td>NaN</td>\n",
       "      <td>NaN</td>\n",
       "      <td>NaN</td>\n",
       "      <td>NaN</td>\n",
       "      <td>NaN</td>\n",
       "    </tr>\n",
       "    <tr>\n",
       "      <th>1</th>\n",
       "      <td>1947-02-01</td>\n",
       "      <td>21.62</td>\n",
       "      <td>NaN</td>\n",
       "      <td>NaN</td>\n",
       "      <td>NaN</td>\n",
       "      <td>13.7361</td>\n",
       "      <td>NaN</td>\n",
       "      <td>NaN</td>\n",
       "      <td>43557.0</td>\n",
       "      <td>NaN</td>\n",
       "      <td>...</td>\n",
       "      <td>NaN</td>\n",
       "      <td>NaN</td>\n",
       "      <td>NaN</td>\n",
       "      <td>NaN</td>\n",
       "      <td>10089.00</td>\n",
       "      <td>NaN</td>\n",
       "      <td>NaN</td>\n",
       "      <td>NaN</td>\n",
       "      <td>NaN</td>\n",
       "      <td>NaN</td>\n",
       "    </tr>\n",
       "    <tr>\n",
       "      <th>2</th>\n",
       "      <td>1947-03-01</td>\n",
       "      <td>22.00</td>\n",
       "      <td>NaN</td>\n",
       "      <td>NaN</td>\n",
       "      <td>NaN</td>\n",
       "      <td>13.8167</td>\n",
       "      <td>NaN</td>\n",
       "      <td>NaN</td>\n",
       "      <td>43607.0</td>\n",
       "      <td>NaN</td>\n",
       "      <td>...</td>\n",
       "      <td>NaN</td>\n",
       "      <td>NaN</td>\n",
       "      <td>NaN</td>\n",
       "      <td>NaN</td>\n",
       "      <td>10345.85</td>\n",
       "      <td>NaN</td>\n",
       "      <td>NaN</td>\n",
       "      <td>NaN</td>\n",
       "      <td>NaN</td>\n",
       "      <td>NaN</td>\n",
       "    </tr>\n",
       "    <tr>\n",
       "      <th>3</th>\n",
       "      <td>1947-04-01</td>\n",
       "      <td>22.00</td>\n",
       "      <td>NaN</td>\n",
       "      <td>NaN</td>\n",
       "      <td>2176.892</td>\n",
       "      <td>13.7092</td>\n",
       "      <td>NaN</td>\n",
       "      <td>NaN</td>\n",
       "      <td>43499.0</td>\n",
       "      <td>NaN</td>\n",
       "      <td>...</td>\n",
       "      <td>NaN</td>\n",
       "      <td>NaN</td>\n",
       "      <td>NaN</td>\n",
       "      <td>NaN</td>\n",
       "      <td>10645.94</td>\n",
       "      <td>NaN</td>\n",
       "      <td>NaN</td>\n",
       "      <td>NaN</td>\n",
       "      <td>NaN</td>\n",
       "      <td>NaN</td>\n",
       "    </tr>\n",
       "    <tr>\n",
       "      <th>4</th>\n",
       "      <td>1947-05-01</td>\n",
       "      <td>21.95</td>\n",
       "      <td>NaN</td>\n",
       "      <td>NaN</td>\n",
       "      <td>NaN</td>\n",
       "      <td>13.7629</td>\n",
       "      <td>NaN</td>\n",
       "      <td>NaN</td>\n",
       "      <td>43638.0</td>\n",
       "      <td>NaN</td>\n",
       "      <td>...</td>\n",
       "      <td>NaN</td>\n",
       "      <td>NaN</td>\n",
       "      <td>NaN</td>\n",
       "      <td>NaN</td>\n",
       "      <td>10926.31</td>\n",
       "      <td>NaN</td>\n",
       "      <td>NaN</td>\n",
       "      <td>NaN</td>\n",
       "      <td>NaN</td>\n",
       "      <td>NaN</td>\n",
       "    </tr>\n",
       "  </tbody>\n",
       "</table>\n",
       "<p>5 rows × 21 columns</p>\n",
       "</div>"
      ],
      "text/plain": [
       "   Unnamed: 0    cpi  core_cpi  pce_price_index  real_gdp  \\\n",
       "0  1947-01-01  21.48       NaN              NaN  2182.681   \n",
       "1  1947-02-01  21.62       NaN              NaN       NaN   \n",
       "2  1947-03-01  22.00       NaN              NaN       NaN   \n",
       "3  1947-04-01  22.00       NaN              NaN  2176.892   \n",
       "4  1947-05-01  21.95       NaN              NaN       NaN   \n",
       "\n",
       "   industrial_production  durable_goods_orders  unemployment_rate  \\\n",
       "0                13.6554                   NaN                NaN   \n",
       "1                13.7361                   NaN                NaN   \n",
       "2                13.8167                   NaN                NaN   \n",
       "3                13.7092                   NaN                NaN   \n",
       "4                13.7629                   NaN                NaN   \n",
       "\n",
       "   nonfarm_payrolls  jobless_claims  ...  treasury_10y  treasury_3m  \\\n",
       "0           43535.0             NaN  ...           NaN          NaN   \n",
       "1           43557.0             NaN  ...           NaN          NaN   \n",
       "2           43607.0             NaN  ...           NaN          NaN   \n",
       "3           43499.0             NaN  ...           NaN          NaN   \n",
       "4           43638.0             NaN  ...           NaN          NaN   \n",
       "\n",
       "   baa_yield  aaa_yield  consumer_credit  mortgage_rate_30y  housing_starts  \\\n",
       "0        NaN        NaN          9770.20                NaN             NaN   \n",
       "1        NaN        NaN         10089.00                NaN             NaN   \n",
       "2        NaN        NaN         10345.85                NaN             NaN   \n",
       "3        NaN        NaN         10645.94                NaN             NaN   \n",
       "4        NaN        NaN         10926.31                NaN             NaN   \n",
       "\n",
       "   building_permits  new_home_sales  umich_consumer_sentiment  \n",
       "0               NaN             NaN                       NaN  \n",
       "1               NaN             NaN                       NaN  \n",
       "2               NaN             NaN                       NaN  \n",
       "3               NaN             NaN                       NaN  \n",
       "4               NaN             NaN                       NaN  \n",
       "\n",
       "[5 rows x 21 columns]"
      ]
     },
     "execution_count": 55,
     "metadata": {},
     "output_type": "execute_result"
    }
   ],
   "source": [
    "macro = \"/Users/imperator/Documents/STUDIES/UNIVERSITY OF GHANA/RESEARCH WORK/CORCHIL KELLY KWAME/PORTFOLIO OPTIMIZATION/PROJECT CODE/Dimensionality-Reduction-PortfolioOptimization/EDA/ETFs_datasets/RAW/FRED/macro_data_20250612.csv\"\n",
    "df = pd.read_csv(macro)\n",
    "df.head()"
   ]
  },
  {
   "cell_type": "code",
   "execution_count": 56,
   "metadata": {},
   "outputs": [
    {
     "name": "stdout",
     "output_type": "stream",
     "text": [
      "<class 'pandas.core.frame.DataFrame'>\n",
      "RangeIndex: 941 entries, 0 to 940\n",
      "Data columns (total 21 columns):\n",
      " #   Column                    Non-Null Count  Dtype  \n",
      "---  ------                    --------------  -----  \n",
      " 0   Unnamed: 0                941 non-null    object \n",
      " 1   cpi                       941 non-null    float64\n",
      " 2   core_cpi                  821 non-null    float64\n",
      " 3   pce_price_index           796 non-null    float64\n",
      " 4   real_gdp                  313 non-null    float64\n",
      " 5   industrial_production     940 non-null    float64\n",
      " 6   durable_goods_orders      399 non-null    float64\n",
      " 7   unemployment_rate         929 non-null    float64\n",
      " 8   nonfarm_payrolls          941 non-null    float64\n",
      " 9   jobless_claims            101 non-null    float64\n",
      " 10  fed_funds_rate            851 non-null    float64\n",
      " 11  treasury_10y              866 non-null    float64\n",
      " 12  treasury_3m               525 non-null    float64\n",
      " 13  baa_yield                 302 non-null    float64\n",
      " 14  aaa_yield                 325 non-null    float64\n",
      " 15  consumer_credit           940 non-null    float64\n",
      " 16  mortgage_rate_30y         87 non-null     float64\n",
      " 17  housing_starts            796 non-null    float64\n",
      " 18  building_permits          784 non-null    float64\n",
      " 19  new_home_sales            748 non-null    float64\n",
      " 20  umich_consumer_sentiment  660 non-null    float64\n",
      "dtypes: float64(20), object(1)\n",
      "memory usage: 154.5+ KB\n"
     ]
    }
   ],
   "source": [
    "df.info()"
   ]
  },
  {
   "cell_type": "code",
   "execution_count": 57,
   "metadata": {},
   "outputs": [
    {
     "data": {
      "application/vnd.microsoft.datawrangler.viewer.v0+json": {
       "columns": [
        {
         "name": "index",
         "rawType": "int64",
         "type": "integer"
        },
        {
         "name": "Date",
         "rawType": "datetime64[ns]",
         "type": "datetime"
        },
        {
         "name": "cpi",
         "rawType": "float64",
         "type": "float"
        },
        {
         "name": "core_cpi",
         "rawType": "float64",
         "type": "float"
        },
        {
         "name": "pce_price_index",
         "rawType": "float64",
         "type": "float"
        },
        {
         "name": "real_gdp",
         "rawType": "float64",
         "type": "float"
        },
        {
         "name": "industrial_production",
         "rawType": "float64",
         "type": "float"
        },
        {
         "name": "durable_goods_orders",
         "rawType": "float64",
         "type": "float"
        },
        {
         "name": "unemployment_rate",
         "rawType": "float64",
         "type": "float"
        },
        {
         "name": "nonfarm_payrolls",
         "rawType": "float64",
         "type": "float"
        },
        {
         "name": "jobless_claims",
         "rawType": "float64",
         "type": "float"
        },
        {
         "name": "fed_funds_rate",
         "rawType": "float64",
         "type": "float"
        },
        {
         "name": "treasury_10y",
         "rawType": "float64",
         "type": "float"
        },
        {
         "name": "treasury_3m",
         "rawType": "float64",
         "type": "float"
        },
        {
         "name": "baa_yield",
         "rawType": "float64",
         "type": "float"
        },
        {
         "name": "aaa_yield",
         "rawType": "float64",
         "type": "float"
        },
        {
         "name": "consumer_credit",
         "rawType": "float64",
         "type": "float"
        },
        {
         "name": "mortgage_rate_30y",
         "rawType": "float64",
         "type": "float"
        },
        {
         "name": "housing_starts",
         "rawType": "float64",
         "type": "float"
        },
        {
         "name": "building_permits",
         "rawType": "float64",
         "type": "float"
        },
        {
         "name": "new_home_sales",
         "rawType": "float64",
         "type": "float"
        },
        {
         "name": "umich_consumer_sentiment",
         "rawType": "float64",
         "type": "float"
        }
       ],
       "ref": "545dce6f-85e3-4f9e-b14f-6c44c2eeb255",
       "rows": [
        [
         "0",
         "1947-01-01 00:00:00",
         "21.48",
         null,
         null,
         "2182.681",
         "13.6554",
         null,
         null,
         "43535.0",
         null,
         null,
         null,
         null,
         null,
         null,
         "9770.2",
         null,
         null,
         null,
         null,
         null
        ],
        [
         "1",
         "1947-02-01 00:00:00",
         "21.62",
         null,
         null,
         null,
         "13.7361",
         null,
         null,
         "43557.0",
         null,
         null,
         null,
         null,
         null,
         null,
         "10089.0",
         null,
         null,
         null,
         null,
         null
        ],
        [
         "2",
         "1947-03-01 00:00:00",
         "22.0",
         null,
         null,
         null,
         "13.8167",
         null,
         null,
         "43607.0",
         null,
         null,
         null,
         null,
         null,
         null,
         "10345.85",
         null,
         null,
         null,
         null,
         null
        ],
        [
         "3",
         "1947-04-01 00:00:00",
         "22.0",
         null,
         null,
         "2176.892",
         "13.7092",
         null,
         null,
         "43499.0",
         null,
         null,
         null,
         null,
         null,
         null,
         "10645.94",
         null,
         null,
         null,
         null,
         null
        ],
        [
         "4",
         "1947-05-01 00:00:00",
         "21.95",
         null,
         null,
         null,
         "13.7629",
         null,
         null,
         "43638.0",
         null,
         null,
         null,
         null,
         null,
         null,
         "10926.31",
         null,
         null,
         null,
         null,
         null
        ]
       ],
       "shape": {
        "columns": 21,
        "rows": 5
       }
      },
      "text/html": [
       "<div>\n",
       "<style scoped>\n",
       "    .dataframe tbody tr th:only-of-type {\n",
       "        vertical-align: middle;\n",
       "    }\n",
       "\n",
       "    .dataframe tbody tr th {\n",
       "        vertical-align: top;\n",
       "    }\n",
       "\n",
       "    .dataframe thead th {\n",
       "        text-align: right;\n",
       "    }\n",
       "</style>\n",
       "<table border=\"1\" class=\"dataframe\">\n",
       "  <thead>\n",
       "    <tr style=\"text-align: right;\">\n",
       "      <th></th>\n",
       "      <th>Date</th>\n",
       "      <th>cpi</th>\n",
       "      <th>core_cpi</th>\n",
       "      <th>pce_price_index</th>\n",
       "      <th>real_gdp</th>\n",
       "      <th>industrial_production</th>\n",
       "      <th>durable_goods_orders</th>\n",
       "      <th>unemployment_rate</th>\n",
       "      <th>nonfarm_payrolls</th>\n",
       "      <th>jobless_claims</th>\n",
       "      <th>...</th>\n",
       "      <th>treasury_10y</th>\n",
       "      <th>treasury_3m</th>\n",
       "      <th>baa_yield</th>\n",
       "      <th>aaa_yield</th>\n",
       "      <th>consumer_credit</th>\n",
       "      <th>mortgage_rate_30y</th>\n",
       "      <th>housing_starts</th>\n",
       "      <th>building_permits</th>\n",
       "      <th>new_home_sales</th>\n",
       "      <th>umich_consumer_sentiment</th>\n",
       "    </tr>\n",
       "  </thead>\n",
       "  <tbody>\n",
       "    <tr>\n",
       "      <th>0</th>\n",
       "      <td>1947-01-01</td>\n",
       "      <td>21.48</td>\n",
       "      <td>NaN</td>\n",
       "      <td>NaN</td>\n",
       "      <td>2182.681</td>\n",
       "      <td>13.6554</td>\n",
       "      <td>NaN</td>\n",
       "      <td>NaN</td>\n",
       "      <td>43535.0</td>\n",
       "      <td>NaN</td>\n",
       "      <td>...</td>\n",
       "      <td>NaN</td>\n",
       "      <td>NaN</td>\n",
       "      <td>NaN</td>\n",
       "      <td>NaN</td>\n",
       "      <td>9770.20</td>\n",
       "      <td>NaN</td>\n",
       "      <td>NaN</td>\n",
       "      <td>NaN</td>\n",
       "      <td>NaN</td>\n",
       "      <td>NaN</td>\n",
       "    </tr>\n",
       "    <tr>\n",
       "      <th>1</th>\n",
       "      <td>1947-02-01</td>\n",
       "      <td>21.62</td>\n",
       "      <td>NaN</td>\n",
       "      <td>NaN</td>\n",
       "      <td>NaN</td>\n",
       "      <td>13.7361</td>\n",
       "      <td>NaN</td>\n",
       "      <td>NaN</td>\n",
       "      <td>43557.0</td>\n",
       "      <td>NaN</td>\n",
       "      <td>...</td>\n",
       "      <td>NaN</td>\n",
       "      <td>NaN</td>\n",
       "      <td>NaN</td>\n",
       "      <td>NaN</td>\n",
       "      <td>10089.00</td>\n",
       "      <td>NaN</td>\n",
       "      <td>NaN</td>\n",
       "      <td>NaN</td>\n",
       "      <td>NaN</td>\n",
       "      <td>NaN</td>\n",
       "    </tr>\n",
       "    <tr>\n",
       "      <th>2</th>\n",
       "      <td>1947-03-01</td>\n",
       "      <td>22.00</td>\n",
       "      <td>NaN</td>\n",
       "      <td>NaN</td>\n",
       "      <td>NaN</td>\n",
       "      <td>13.8167</td>\n",
       "      <td>NaN</td>\n",
       "      <td>NaN</td>\n",
       "      <td>43607.0</td>\n",
       "      <td>NaN</td>\n",
       "      <td>...</td>\n",
       "      <td>NaN</td>\n",
       "      <td>NaN</td>\n",
       "      <td>NaN</td>\n",
       "      <td>NaN</td>\n",
       "      <td>10345.85</td>\n",
       "      <td>NaN</td>\n",
       "      <td>NaN</td>\n",
       "      <td>NaN</td>\n",
       "      <td>NaN</td>\n",
       "      <td>NaN</td>\n",
       "    </tr>\n",
       "    <tr>\n",
       "      <th>3</th>\n",
       "      <td>1947-04-01</td>\n",
       "      <td>22.00</td>\n",
       "      <td>NaN</td>\n",
       "      <td>NaN</td>\n",
       "      <td>2176.892</td>\n",
       "      <td>13.7092</td>\n",
       "      <td>NaN</td>\n",
       "      <td>NaN</td>\n",
       "      <td>43499.0</td>\n",
       "      <td>NaN</td>\n",
       "      <td>...</td>\n",
       "      <td>NaN</td>\n",
       "      <td>NaN</td>\n",
       "      <td>NaN</td>\n",
       "      <td>NaN</td>\n",
       "      <td>10645.94</td>\n",
       "      <td>NaN</td>\n",
       "      <td>NaN</td>\n",
       "      <td>NaN</td>\n",
       "      <td>NaN</td>\n",
       "      <td>NaN</td>\n",
       "    </tr>\n",
       "    <tr>\n",
       "      <th>4</th>\n",
       "      <td>1947-05-01</td>\n",
       "      <td>21.95</td>\n",
       "      <td>NaN</td>\n",
       "      <td>NaN</td>\n",
       "      <td>NaN</td>\n",
       "      <td>13.7629</td>\n",
       "      <td>NaN</td>\n",
       "      <td>NaN</td>\n",
       "      <td>43638.0</td>\n",
       "      <td>NaN</td>\n",
       "      <td>...</td>\n",
       "      <td>NaN</td>\n",
       "      <td>NaN</td>\n",
       "      <td>NaN</td>\n",
       "      <td>NaN</td>\n",
       "      <td>10926.31</td>\n",
       "      <td>NaN</td>\n",
       "      <td>NaN</td>\n",
       "      <td>NaN</td>\n",
       "      <td>NaN</td>\n",
       "      <td>NaN</td>\n",
       "    </tr>\n",
       "  </tbody>\n",
       "</table>\n",
       "<p>5 rows × 21 columns</p>\n",
       "</div>"
      ],
      "text/plain": [
       "        Date    cpi  core_cpi  pce_price_index  real_gdp  \\\n",
       "0 1947-01-01  21.48       NaN              NaN  2182.681   \n",
       "1 1947-02-01  21.62       NaN              NaN       NaN   \n",
       "2 1947-03-01  22.00       NaN              NaN       NaN   \n",
       "3 1947-04-01  22.00       NaN              NaN  2176.892   \n",
       "4 1947-05-01  21.95       NaN              NaN       NaN   \n",
       "\n",
       "   industrial_production  durable_goods_orders  unemployment_rate  \\\n",
       "0                13.6554                   NaN                NaN   \n",
       "1                13.7361                   NaN                NaN   \n",
       "2                13.8167                   NaN                NaN   \n",
       "3                13.7092                   NaN                NaN   \n",
       "4                13.7629                   NaN                NaN   \n",
       "\n",
       "   nonfarm_payrolls  jobless_claims  ...  treasury_10y  treasury_3m  \\\n",
       "0           43535.0             NaN  ...           NaN          NaN   \n",
       "1           43557.0             NaN  ...           NaN          NaN   \n",
       "2           43607.0             NaN  ...           NaN          NaN   \n",
       "3           43499.0             NaN  ...           NaN          NaN   \n",
       "4           43638.0             NaN  ...           NaN          NaN   \n",
       "\n",
       "   baa_yield  aaa_yield  consumer_credit  mortgage_rate_30y  housing_starts  \\\n",
       "0        NaN        NaN          9770.20                NaN             NaN   \n",
       "1        NaN        NaN         10089.00                NaN             NaN   \n",
       "2        NaN        NaN         10345.85                NaN             NaN   \n",
       "3        NaN        NaN         10645.94                NaN             NaN   \n",
       "4        NaN        NaN         10926.31                NaN             NaN   \n",
       "\n",
       "   building_permits  new_home_sales  umich_consumer_sentiment  \n",
       "0               NaN             NaN                       NaN  \n",
       "1               NaN             NaN                       NaN  \n",
       "2               NaN             NaN                       NaN  \n",
       "3               NaN             NaN                       NaN  \n",
       "4               NaN             NaN                       NaN  \n",
       "\n",
       "[5 rows x 21 columns]"
      ]
     },
     "execution_count": 57,
     "metadata": {},
     "output_type": "execute_result"
    }
   ],
   "source": [
    "# change the unnamed column to date\n",
    "df.rename(columns={'Unnamed: 0': 'Date'}, inplace=True)\n",
    "# Strip spaces & whitespaces from column names\n",
    "df.columns = df.columns.str.strip()\n",
    "df.columns = df.columns.str.replace(' ', '')\n",
    "# convert the date column to datetime\n",
    "df['Date'] = pd.to_datetime(df['Date'], format='%Y-%m-%d', errors='coerce')\n",
    "df.head()"
   ]
  },
  {
   "cell_type": "code",
   "execution_count": 59,
   "metadata": {},
   "outputs": [
    {
     "name": "stdout",
     "output_type": "stream",
     "text": [
      "<class 'pandas.core.frame.DataFrame'>\n",
      "RangeIndex: 941 entries, 0 to 940\n",
      "Data columns (total 21 columns):\n",
      " #   Column                    Non-Null Count  Dtype         \n",
      "---  ------                    --------------  -----         \n",
      " 0   Date                      941 non-null    datetime64[ns]\n",
      " 1   cpi                       941 non-null    float64       \n",
      " 2   core_cpi                  821 non-null    float64       \n",
      " 3   pce_price_index           796 non-null    float64       \n",
      " 4   real_gdp                  313 non-null    float64       \n",
      " 5   industrial_production     940 non-null    float64       \n",
      " 6   durable_goods_orders      399 non-null    float64       \n",
      " 7   unemployment_rate         929 non-null    float64       \n",
      " 8   nonfarm_payrolls          941 non-null    float64       \n",
      " 9   jobless_claims            101 non-null    float64       \n",
      " 10  fed_funds_rate            851 non-null    float64       \n",
      " 11  treasury_10y              866 non-null    float64       \n",
      " 12  treasury_3m               525 non-null    float64       \n",
      " 13  baa_yield                 302 non-null    float64       \n",
      " 14  aaa_yield                 325 non-null    float64       \n",
      " 15  consumer_credit           940 non-null    float64       \n",
      " 16  mortgage_rate_30y         87 non-null     float64       \n",
      " 17  housing_starts            796 non-null    float64       \n",
      " 18  building_permits          784 non-null    float64       \n",
      " 19  new_home_sales            748 non-null    float64       \n",
      " 20  umich_consumer_sentiment  660 non-null    float64       \n",
      "dtypes: datetime64[ns](1), float64(20)\n",
      "memory usage: 154.5 KB\n"
     ]
    }
   ],
   "source": [
    "df.info()"
   ]
  },
  {
   "cell_type": "code",
   "execution_count": 61,
   "metadata": {},
   "outputs": [
    {
     "name": "stdout",
     "output_type": "stream",
     "text": [
      "Shape of DataFrame after filtering: (125, 21)\n"
     ]
    },
    {
     "data": {
      "application/vnd.microsoft.datawrangler.viewer.v0+json": {
       "columns": [
        {
         "name": "index",
         "rawType": "int64",
         "type": "integer"
        },
        {
         "name": "Date",
         "rawType": "datetime64[ns]",
         "type": "datetime"
        },
        {
         "name": "cpi",
         "rawType": "float64",
         "type": "float"
        },
        {
         "name": "core_cpi",
         "rawType": "float64",
         "type": "float"
        },
        {
         "name": "pce_price_index",
         "rawType": "float64",
         "type": "float"
        },
        {
         "name": "real_gdp",
         "rawType": "float64",
         "type": "float"
        },
        {
         "name": "industrial_production",
         "rawType": "float64",
         "type": "float"
        },
        {
         "name": "durable_goods_orders",
         "rawType": "float64",
         "type": "float"
        },
        {
         "name": "unemployment_rate",
         "rawType": "float64",
         "type": "float"
        },
        {
         "name": "nonfarm_payrolls",
         "rawType": "float64",
         "type": "float"
        },
        {
         "name": "jobless_claims",
         "rawType": "float64",
         "type": "float"
        },
        {
         "name": "fed_funds_rate",
         "rawType": "float64",
         "type": "float"
        },
        {
         "name": "treasury_10y",
         "rawType": "float64",
         "type": "float"
        },
        {
         "name": "treasury_3m",
         "rawType": "float64",
         "type": "float"
        },
        {
         "name": "baa_yield",
         "rawType": "float64",
         "type": "float"
        },
        {
         "name": "aaa_yield",
         "rawType": "float64",
         "type": "float"
        },
        {
         "name": "consumer_credit",
         "rawType": "float64",
         "type": "float"
        },
        {
         "name": "mortgage_rate_30y",
         "rawType": "float64",
         "type": "float"
        },
        {
         "name": "housing_starts",
         "rawType": "float64",
         "type": "float"
        },
        {
         "name": "building_permits",
         "rawType": "float64",
         "type": "float"
        },
        {
         "name": "new_home_sales",
         "rawType": "float64",
         "type": "float"
        },
        {
         "name": "umich_consumer_sentiment",
         "rawType": "float64",
         "type": "float"
        }
       ],
       "ref": "6ca2981c-495f-44c3-8bab-9323fa2d045f",
       "rows": [
        [
         "0",
         "2015-01-01 00:00:00",
         "234.747",
         "239.811",
         "96.654",
         "18666.621",
         "102.7923",
         "225739.0",
         "5.7",
         "140568.0",
         null,
         "0.11",
         "1.88",
         "0.03",
         null,
         null,
         "3319927.62",
         null,
         "1085.0",
         "1049.0",
         "515.0",
         "98.1"
        ],
        [
         "1",
         "2015-02-01 00:00:00",
         "235.342",
         "240.172",
         "96.825",
         null,
         "102.1366",
         "217321.0",
         "5.5",
         "140827.0",
         null,
         "0.11",
         "1.98",
         "0.02",
         null,
         null,
         "3337842.03",
         null,
         "886.0",
         "1127.0",
         "540.0",
         "95.4"
        ],
        [
         "2",
         "2015-03-01 00:00:00",
         "235.976",
         "240.755",
         "97.008",
         null,
         "101.7869",
         "230136.0",
         "5.4",
         "140923.0",
         null,
         "0.11",
         "2.04",
         "0.03",
         null,
         null,
         "3360574.45",
         null,
         "960.0",
         "1072.0",
         "480.0",
         "93.0"
        ],
        [
         "3",
         "2015-04-01 00:00:00",
         "236.222",
         "241.346",
         "97.094",
         "18782.243",
         "101.2255",
         "225656.0",
         "5.4",
         "141196.0",
         null,
         "0.12",
         "1.94",
         "0.02",
         "2.55",
         "1.58",
         "3382635.52",
         null,
         "1190.0",
         "1166.0",
         "502.0",
         "95.9"
        ],
        [
         "4",
         "2015-05-01 00:00:00",
         "237.001",
         "241.688",
         "97.327",
         null,
         "100.7675",
         "218316.0",
         "5.6",
         "141538.0",
         null,
         "0.12",
         "2.2",
         "0.02",
         "2.61",
         "1.7",
         "3399358.91",
         null,
         "1079.0",
         "1272.0",
         "502.0",
         "90.7"
        ]
       ],
       "shape": {
        "columns": 21,
        "rows": 5
       }
      },
      "text/html": [
       "<div>\n",
       "<style scoped>\n",
       "    .dataframe tbody tr th:only-of-type {\n",
       "        vertical-align: middle;\n",
       "    }\n",
       "\n",
       "    .dataframe tbody tr th {\n",
       "        vertical-align: top;\n",
       "    }\n",
       "\n",
       "    .dataframe thead th {\n",
       "        text-align: right;\n",
       "    }\n",
       "</style>\n",
       "<table border=\"1\" class=\"dataframe\">\n",
       "  <thead>\n",
       "    <tr style=\"text-align: right;\">\n",
       "      <th></th>\n",
       "      <th>Date</th>\n",
       "      <th>cpi</th>\n",
       "      <th>core_cpi</th>\n",
       "      <th>pce_price_index</th>\n",
       "      <th>real_gdp</th>\n",
       "      <th>industrial_production</th>\n",
       "      <th>durable_goods_orders</th>\n",
       "      <th>unemployment_rate</th>\n",
       "      <th>nonfarm_payrolls</th>\n",
       "      <th>jobless_claims</th>\n",
       "      <th>...</th>\n",
       "      <th>treasury_10y</th>\n",
       "      <th>treasury_3m</th>\n",
       "      <th>baa_yield</th>\n",
       "      <th>aaa_yield</th>\n",
       "      <th>consumer_credit</th>\n",
       "      <th>mortgage_rate_30y</th>\n",
       "      <th>housing_starts</th>\n",
       "      <th>building_permits</th>\n",
       "      <th>new_home_sales</th>\n",
       "      <th>umich_consumer_sentiment</th>\n",
       "    </tr>\n",
       "  </thead>\n",
       "  <tbody>\n",
       "    <tr>\n",
       "      <th>0</th>\n",
       "      <td>2015-01-01</td>\n",
       "      <td>234.747</td>\n",
       "      <td>239.811</td>\n",
       "      <td>96.654</td>\n",
       "      <td>18666.621</td>\n",
       "      <td>102.7923</td>\n",
       "      <td>225739.0</td>\n",
       "      <td>5.7</td>\n",
       "      <td>140568.0</td>\n",
       "      <td>NaN</td>\n",
       "      <td>...</td>\n",
       "      <td>1.88</td>\n",
       "      <td>0.03</td>\n",
       "      <td>NaN</td>\n",
       "      <td>NaN</td>\n",
       "      <td>3319927.62</td>\n",
       "      <td>NaN</td>\n",
       "      <td>1085.0</td>\n",
       "      <td>1049.0</td>\n",
       "      <td>515.0</td>\n",
       "      <td>98.1</td>\n",
       "    </tr>\n",
       "    <tr>\n",
       "      <th>1</th>\n",
       "      <td>2015-02-01</td>\n",
       "      <td>235.342</td>\n",
       "      <td>240.172</td>\n",
       "      <td>96.825</td>\n",
       "      <td>NaN</td>\n",
       "      <td>102.1366</td>\n",
       "      <td>217321.0</td>\n",
       "      <td>5.5</td>\n",
       "      <td>140827.0</td>\n",
       "      <td>NaN</td>\n",
       "      <td>...</td>\n",
       "      <td>1.98</td>\n",
       "      <td>0.02</td>\n",
       "      <td>NaN</td>\n",
       "      <td>NaN</td>\n",
       "      <td>3337842.03</td>\n",
       "      <td>NaN</td>\n",
       "      <td>886.0</td>\n",
       "      <td>1127.0</td>\n",
       "      <td>540.0</td>\n",
       "      <td>95.4</td>\n",
       "    </tr>\n",
       "    <tr>\n",
       "      <th>2</th>\n",
       "      <td>2015-03-01</td>\n",
       "      <td>235.976</td>\n",
       "      <td>240.755</td>\n",
       "      <td>97.008</td>\n",
       "      <td>NaN</td>\n",
       "      <td>101.7869</td>\n",
       "      <td>230136.0</td>\n",
       "      <td>5.4</td>\n",
       "      <td>140923.0</td>\n",
       "      <td>NaN</td>\n",
       "      <td>...</td>\n",
       "      <td>2.04</td>\n",
       "      <td>0.03</td>\n",
       "      <td>NaN</td>\n",
       "      <td>NaN</td>\n",
       "      <td>3360574.45</td>\n",
       "      <td>NaN</td>\n",
       "      <td>960.0</td>\n",
       "      <td>1072.0</td>\n",
       "      <td>480.0</td>\n",
       "      <td>93.0</td>\n",
       "    </tr>\n",
       "    <tr>\n",
       "      <th>3</th>\n",
       "      <td>2015-04-01</td>\n",
       "      <td>236.222</td>\n",
       "      <td>241.346</td>\n",
       "      <td>97.094</td>\n",
       "      <td>18782.243</td>\n",
       "      <td>101.2255</td>\n",
       "      <td>225656.0</td>\n",
       "      <td>5.4</td>\n",
       "      <td>141196.0</td>\n",
       "      <td>NaN</td>\n",
       "      <td>...</td>\n",
       "      <td>1.94</td>\n",
       "      <td>0.02</td>\n",
       "      <td>2.55</td>\n",
       "      <td>1.58</td>\n",
       "      <td>3382635.52</td>\n",
       "      <td>NaN</td>\n",
       "      <td>1190.0</td>\n",
       "      <td>1166.0</td>\n",
       "      <td>502.0</td>\n",
       "      <td>95.9</td>\n",
       "    </tr>\n",
       "    <tr>\n",
       "      <th>4</th>\n",
       "      <td>2015-05-01</td>\n",
       "      <td>237.001</td>\n",
       "      <td>241.688</td>\n",
       "      <td>97.327</td>\n",
       "      <td>NaN</td>\n",
       "      <td>100.7675</td>\n",
       "      <td>218316.0</td>\n",
       "      <td>5.6</td>\n",
       "      <td>141538.0</td>\n",
       "      <td>NaN</td>\n",
       "      <td>...</td>\n",
       "      <td>2.20</td>\n",
       "      <td>0.02</td>\n",
       "      <td>2.61</td>\n",
       "      <td>1.70</td>\n",
       "      <td>3399358.91</td>\n",
       "      <td>NaN</td>\n",
       "      <td>1079.0</td>\n",
       "      <td>1272.0</td>\n",
       "      <td>502.0</td>\n",
       "      <td>90.7</td>\n",
       "    </tr>\n",
       "  </tbody>\n",
       "</table>\n",
       "<p>5 rows × 21 columns</p>\n",
       "</div>"
      ],
      "text/plain": [
       "        Date      cpi  core_cpi  pce_price_index   real_gdp  \\\n",
       "0 2015-01-01  234.747   239.811           96.654  18666.621   \n",
       "1 2015-02-01  235.342   240.172           96.825        NaN   \n",
       "2 2015-03-01  235.976   240.755           97.008        NaN   \n",
       "3 2015-04-01  236.222   241.346           97.094  18782.243   \n",
       "4 2015-05-01  237.001   241.688           97.327        NaN   \n",
       "\n",
       "   industrial_production  durable_goods_orders  unemployment_rate  \\\n",
       "0               102.7923              225739.0                5.7   \n",
       "1               102.1366              217321.0                5.5   \n",
       "2               101.7869              230136.0                5.4   \n",
       "3               101.2255              225656.0                5.4   \n",
       "4               100.7675              218316.0                5.6   \n",
       "\n",
       "   nonfarm_payrolls  jobless_claims  ...  treasury_10y  treasury_3m  \\\n",
       "0          140568.0             NaN  ...          1.88         0.03   \n",
       "1          140827.0             NaN  ...          1.98         0.02   \n",
       "2          140923.0             NaN  ...          2.04         0.03   \n",
       "3          141196.0             NaN  ...          1.94         0.02   \n",
       "4          141538.0             NaN  ...          2.20         0.02   \n",
       "\n",
       "   baa_yield  aaa_yield  consumer_credit  mortgage_rate_30y  housing_starts  \\\n",
       "0        NaN        NaN       3319927.62                NaN          1085.0   \n",
       "1        NaN        NaN       3337842.03                NaN           886.0   \n",
       "2        NaN        NaN       3360574.45                NaN           960.0   \n",
       "3       2.55       1.58       3382635.52                NaN          1190.0   \n",
       "4       2.61       1.70       3399358.91                NaN          1079.0   \n",
       "\n",
       "   building_permits  new_home_sales  umich_consumer_sentiment  \n",
       "0            1049.0           515.0                      98.1  \n",
       "1            1127.0           540.0                      95.4  \n",
       "2            1072.0           480.0                      93.0  \n",
       "3            1166.0           502.0                      95.9  \n",
       "4            1272.0           502.0                      90.7  \n",
       "\n",
       "[5 rows x 21 columns]"
      ]
     },
     "execution_count": 61,
     "metadata": {},
     "output_type": "execute_result"
    }
   ],
   "source": [
    "# cut of years before 2015\n",
    "df = df[df['Date'] >= '2015-01-01']\n",
    "# Reset the index after filtering\n",
    "df.reset_index(drop=True, inplace=True)\n",
    "# Check the shape of the DataFrame after filtering\n",
    "print(f\"Shape of DataFrame after filtering: {df.shape}\")\n",
    "df.head()\n"
   ]
  },
  {
   "cell_type": "code",
   "execution_count": 62,
   "metadata": {},
   "outputs": [],
   "source": [
    "df.to_csv('/Users/imperator/Documents/STUDIES/UNIVERSITY OF GHANA/RESEARCH WORK/CORCHIL KELLY KWAME/PORTFOLIO OPTIMIZATION/PROJECT CODE/Dimensionality-Reduction-PortfolioOptimization/EDA/ETFs_datasets/Final_csv/3-macro_data.csv', index=False)"
   ]
  }
 ],
 "metadata": {
  "kernelspec": {
   "display_name": ".venv",
   "language": "python",
   "name": "python3"
  },
  "language_info": {
   "codemirror_mode": {
    "name": "ipython",
    "version": 3
   },
   "file_extension": ".py",
   "mimetype": "text/x-python",
   "name": "python",
   "nbconvert_exporter": "python",
   "pygments_lexer": "ipython3",
   "version": "3.13.1"
  }
 },
 "nbformat": 4,
 "nbformat_minor": 2
}

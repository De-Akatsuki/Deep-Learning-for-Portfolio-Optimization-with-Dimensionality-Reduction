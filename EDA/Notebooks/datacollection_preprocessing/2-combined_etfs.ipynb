{
 "cells": [
  {
   "cell_type": "markdown",
   "metadata": {},
   "source": [
    "### First Stage of the Data Preprocessing Phase.\n",
    "- Re-Organize the Data from the original form\n",
    "- For the purpose of expediency, i will change the names of the ETFs one after the other and save the files using the same name to the same location."
   ]
  },
  {
   "cell_type": "code",
   "execution_count": 52,
   "metadata": {},
   "outputs": [
    {
     "data": {
      "application/vnd.microsoft.datawrangler.viewer.v0+json": {
       "columns": [
        {
         "name": "index",
         "rawType": "int64",
         "type": "integer"
        },
        {
         "name": "Price",
         "rawType": "object",
         "type": "string"
        },
        {
         "name": "Close",
         "rawType": "object",
         "type": "unknown"
        },
        {
         "name": "High",
         "rawType": "object",
         "type": "unknown"
        },
        {
         "name": "Low",
         "rawType": "object",
         "type": "unknown"
        },
        {
         "name": "Open",
         "rawType": "object",
         "type": "unknown"
        },
        {
         "name": "Volume",
         "rawType": "object",
         "type": "unknown"
        }
       ],
       "ref": "4b984f90-39fa-472b-b264-6f2626e16d2f",
       "rows": [
        [
         "0",
         "Ticker",
         "VXUS",
         "VXUS",
         "VXUS",
         "VXUS",
         "VXUS"
        ],
        [
         "1",
         "Date",
         null,
         null,
         null,
         null,
         null
        ],
        [
         "2",
         "2015-06-15",
         "38.22300720214844",
         "38.22300720214844",
         "38.007770171413846",
         "38.07456777297815",
         "352700"
        ],
        [
         "3",
         "2015-06-16",
         "38.23041534423828",
         "38.24525956540496",
         "38.00775768922949",
         "38.0745552688567",
         "245900"
        ],
        [
         "4",
         "2015-06-17",
         "38.20073699951172",
         "38.28979951220714",
         "37.8444841174838",
         "38.14136010355062",
         "350300"
        ]
       ],
       "shape": {
        "columns": 6,
        "rows": 5
       }
      },
      "text/html": [
       "<div>\n",
       "<style scoped>\n",
       "    .dataframe tbody tr th:only-of-type {\n",
       "        vertical-align: middle;\n",
       "    }\n",
       "\n",
       "    .dataframe tbody tr th {\n",
       "        vertical-align: top;\n",
       "    }\n",
       "\n",
       "    .dataframe thead th {\n",
       "        text-align: right;\n",
       "    }\n",
       "</style>\n",
       "<table border=\"1\" class=\"dataframe\">\n",
       "  <thead>\n",
       "    <tr style=\"text-align: right;\">\n",
       "      <th></th>\n",
       "      <th>Price</th>\n",
       "      <th>Close</th>\n",
       "      <th>High</th>\n",
       "      <th>Low</th>\n",
       "      <th>Open</th>\n",
       "      <th>Volume</th>\n",
       "    </tr>\n",
       "  </thead>\n",
       "  <tbody>\n",
       "    <tr>\n",
       "      <th>0</th>\n",
       "      <td>Ticker</td>\n",
       "      <td>VXUS</td>\n",
       "      <td>VXUS</td>\n",
       "      <td>VXUS</td>\n",
       "      <td>VXUS</td>\n",
       "      <td>VXUS</td>\n",
       "    </tr>\n",
       "    <tr>\n",
       "      <th>1</th>\n",
       "      <td>Date</td>\n",
       "      <td>NaN</td>\n",
       "      <td>NaN</td>\n",
       "      <td>NaN</td>\n",
       "      <td>NaN</td>\n",
       "      <td>NaN</td>\n",
       "    </tr>\n",
       "    <tr>\n",
       "      <th>2</th>\n",
       "      <td>2015-06-15</td>\n",
       "      <td>38.22300720214844</td>\n",
       "      <td>38.22300720214844</td>\n",
       "      <td>38.007770171413846</td>\n",
       "      <td>38.07456777297815</td>\n",
       "      <td>352700</td>\n",
       "    </tr>\n",
       "    <tr>\n",
       "      <th>3</th>\n",
       "      <td>2015-06-16</td>\n",
       "      <td>38.23041534423828</td>\n",
       "      <td>38.24525956540496</td>\n",
       "      <td>38.00775768922949</td>\n",
       "      <td>38.0745552688567</td>\n",
       "      <td>245900</td>\n",
       "    </tr>\n",
       "    <tr>\n",
       "      <th>4</th>\n",
       "      <td>2015-06-17</td>\n",
       "      <td>38.20073699951172</td>\n",
       "      <td>38.28979951220714</td>\n",
       "      <td>37.8444841174838</td>\n",
       "      <td>38.14136010355062</td>\n",
       "      <td>350300</td>\n",
       "    </tr>\n",
       "  </tbody>\n",
       "</table>\n",
       "</div>"
      ],
      "text/plain": [
       "        Price              Close               High                 Low  \\\n",
       "0      Ticker               VXUS               VXUS                VXUS   \n",
       "1        Date                NaN                NaN                 NaN   \n",
       "2  2015-06-15  38.22300720214844  38.22300720214844  38.007770171413846   \n",
       "3  2015-06-16  38.23041534423828  38.24525956540496   38.00775768922949   \n",
       "4  2015-06-17  38.20073699951172  38.28979951220714    37.8444841174838   \n",
       "\n",
       "                Open  Volume  \n",
       "0               VXUS    VXUS  \n",
       "1                NaN     NaN  \n",
       "2  38.07456777297815  352700  \n",
       "3   38.0745552688567  245900  \n",
       "4  38.14136010355062  350300  "
      ]
     },
     "execution_count": 52,
     "metadata": {},
     "output_type": "execute_result"
    }
   ],
   "source": [
    "# I am combining all the etfs as one sheet so that i can perform EDA on it.\n",
    "\n",
    "import pandas as pd\n",
    "\n",
    "etf = ('/Users/imperator/Documents/STUDIES/UNIVERSITY OF GHANA/RESEARCH WORK/CORCHIL KELLY KWAME/PORTFOLIO OPTIMIZATION/PROJECT CODE/Dimensionality-Reduction-PortfolioOptimization/EDA/ETFs_datasets/RAW/ETFS/VXUS_historical_data.csv')\n",
    "df = pd.read_csv(etf)\n",
    "df.head()"
   ]
  },
  {
   "cell_type": "code",
   "execution_count": 53,
   "metadata": {},
   "outputs": [
    {
     "data": {
      "application/vnd.microsoft.datawrangler.viewer.v0+json": {
       "columns": [
        {
         "name": "index",
         "rawType": "int64",
         "type": "integer"
        },
        {
         "name": "Ticker",
         "rawType": "object",
         "type": "string"
        },
        {
         "name": "Price",
         "rawType": "object",
         "type": "string"
        },
        {
         "name": "Close",
         "rawType": "object",
         "type": "unknown"
        },
        {
         "name": "High",
         "rawType": "object",
         "type": "unknown"
        },
        {
         "name": "Low",
         "rawType": "object",
         "type": "unknown"
        },
        {
         "name": "Open",
         "rawType": "object",
         "type": "unknown"
        },
        {
         "name": "Volume",
         "rawType": "object",
         "type": "unknown"
        }
       ],
       "ref": "26b93b65-ba00-40fa-88cf-12a1115bb0c1",
       "rows": [
        [
         "0",
         "VXUS",
         "Ticker",
         "VXUS",
         "VXUS",
         "VXUS",
         "VXUS",
         "VXUS"
        ],
        [
         "1",
         "VXUS",
         "Date",
         null,
         null,
         null,
         null,
         null
        ],
        [
         "2",
         "VXUS",
         "2015-06-15",
         "38.22300720214844",
         "38.22300720214844",
         "38.007770171413846",
         "38.07456777297815",
         "352700"
        ],
        [
         "3",
         "VXUS",
         "2015-06-16",
         "38.23041534423828",
         "38.24525956540496",
         "38.00775768922949",
         "38.0745552688567",
         "245900"
        ],
        [
         "4",
         "VXUS",
         "2015-06-17",
         "38.20073699951172",
         "38.28979951220714",
         "37.8444841174838",
         "38.14136010355062",
         "350300"
        ]
       ],
       "shape": {
        "columns": 7,
        "rows": 5
       }
      },
      "text/html": [
       "<div>\n",
       "<style scoped>\n",
       "    .dataframe tbody tr th:only-of-type {\n",
       "        vertical-align: middle;\n",
       "    }\n",
       "\n",
       "    .dataframe tbody tr th {\n",
       "        vertical-align: top;\n",
       "    }\n",
       "\n",
       "    .dataframe thead th {\n",
       "        text-align: right;\n",
       "    }\n",
       "</style>\n",
       "<table border=\"1\" class=\"dataframe\">\n",
       "  <thead>\n",
       "    <tr style=\"text-align: right;\">\n",
       "      <th></th>\n",
       "      <th>Ticker</th>\n",
       "      <th>Price</th>\n",
       "      <th>Close</th>\n",
       "      <th>High</th>\n",
       "      <th>Low</th>\n",
       "      <th>Open</th>\n",
       "      <th>Volume</th>\n",
       "    </tr>\n",
       "  </thead>\n",
       "  <tbody>\n",
       "    <tr>\n",
       "      <th>0</th>\n",
       "      <td>VXUS</td>\n",
       "      <td>Ticker</td>\n",
       "      <td>VXUS</td>\n",
       "      <td>VXUS</td>\n",
       "      <td>VXUS</td>\n",
       "      <td>VXUS</td>\n",
       "      <td>VXUS</td>\n",
       "    </tr>\n",
       "    <tr>\n",
       "      <th>1</th>\n",
       "      <td>VXUS</td>\n",
       "      <td>Date</td>\n",
       "      <td>NaN</td>\n",
       "      <td>NaN</td>\n",
       "      <td>NaN</td>\n",
       "      <td>NaN</td>\n",
       "      <td>NaN</td>\n",
       "    </tr>\n",
       "    <tr>\n",
       "      <th>2</th>\n",
       "      <td>VXUS</td>\n",
       "      <td>2015-06-15</td>\n",
       "      <td>38.22300720214844</td>\n",
       "      <td>38.22300720214844</td>\n",
       "      <td>38.007770171413846</td>\n",
       "      <td>38.07456777297815</td>\n",
       "      <td>352700</td>\n",
       "    </tr>\n",
       "    <tr>\n",
       "      <th>3</th>\n",
       "      <td>VXUS</td>\n",
       "      <td>2015-06-16</td>\n",
       "      <td>38.23041534423828</td>\n",
       "      <td>38.24525956540496</td>\n",
       "      <td>38.00775768922949</td>\n",
       "      <td>38.0745552688567</td>\n",
       "      <td>245900</td>\n",
       "    </tr>\n",
       "    <tr>\n",
       "      <th>4</th>\n",
       "      <td>VXUS</td>\n",
       "      <td>2015-06-17</td>\n",
       "      <td>38.20073699951172</td>\n",
       "      <td>38.28979951220714</td>\n",
       "      <td>37.8444841174838</td>\n",
       "      <td>38.14136010355062</td>\n",
       "      <td>350300</td>\n",
       "    </tr>\n",
       "  </tbody>\n",
       "</table>\n",
       "</div>"
      ],
      "text/plain": [
       "  Ticker       Price              Close               High  \\\n",
       "0   VXUS      Ticker               VXUS               VXUS   \n",
       "1   VXUS        Date                NaN                NaN   \n",
       "2   VXUS  2015-06-15  38.22300720214844  38.22300720214844   \n",
       "3   VXUS  2015-06-16  38.23041534423828  38.24525956540496   \n",
       "4   VXUS  2015-06-17  38.20073699951172  38.28979951220714   \n",
       "\n",
       "                  Low               Open  Volume  \n",
       "0                VXUS               VXUS    VXUS  \n",
       "1                 NaN                NaN     NaN  \n",
       "2  38.007770171413846  38.07456777297815  352700  \n",
       "3   38.00775768922949   38.0745552688567  245900  \n",
       "4    37.8444841174838  38.14136010355062  350300  "
      ]
     },
     "execution_count": 53,
     "metadata": {},
     "output_type": "execute_result"
    }
   ],
   "source": [
    "df.insert(0, 'Ticker', 'VXUS')\n",
    "df.head()"
   ]
  },
  {
   "cell_type": "code",
   "execution_count": 54,
   "metadata": {},
   "outputs": [
    {
     "data": {
      "application/vnd.microsoft.datawrangler.viewer.v0+json": {
       "columns": [
        {
         "name": "index",
         "rawType": "int64",
         "type": "integer"
        },
        {
         "name": "Ticker",
         "rawType": "object",
         "type": "string"
        },
        {
         "name": "Price",
         "rawType": "object",
         "type": "string"
        },
        {
         "name": "Close",
         "rawType": "object",
         "type": "string"
        },
        {
         "name": "High",
         "rawType": "object",
         "type": "string"
        },
        {
         "name": "Low",
         "rawType": "object",
         "type": "string"
        },
        {
         "name": "Open",
         "rawType": "object",
         "type": "string"
        },
        {
         "name": "Volume",
         "rawType": "object",
         "type": "string"
        }
       ],
       "ref": "9a6f6522-cacf-4a9f-9e72-d983169eecc4",
       "rows": [
        [
         "2",
         "VXUS",
         "2015-06-15",
         "38.22300720214844",
         "38.22300720214844",
         "38.007770171413846",
         "38.07456777297815",
         "352700"
        ],
        [
         "3",
         "VXUS",
         "2015-06-16",
         "38.23041534423828",
         "38.24525956540496",
         "38.00775768922949",
         "38.0745552688567",
         "245900"
        ],
        [
         "4",
         "VXUS",
         "2015-06-17",
         "38.20073699951172",
         "38.28979951220714",
         "37.8444841174838",
         "38.14136010355062",
         "350300"
        ],
        [
         "5",
         "VXUS",
         "2015-06-18",
         "38.5495719909668",
         "38.75738832597309",
         "38.319493563589084",
         "38.35660271336807",
         "275400"
        ],
        [
         "6",
         "VXUS",
         "2015-06-19",
         "38.3714485168457",
         "38.49762019753007",
         "38.3714485168457",
         "38.49019949976789",
         "252100"
        ]
       ],
       "shape": {
        "columns": 7,
        "rows": 5
       }
      },
      "text/html": [
       "<div>\n",
       "<style scoped>\n",
       "    .dataframe tbody tr th:only-of-type {\n",
       "        vertical-align: middle;\n",
       "    }\n",
       "\n",
       "    .dataframe tbody tr th {\n",
       "        vertical-align: top;\n",
       "    }\n",
       "\n",
       "    .dataframe thead th {\n",
       "        text-align: right;\n",
       "    }\n",
       "</style>\n",
       "<table border=\"1\" class=\"dataframe\">\n",
       "  <thead>\n",
       "    <tr style=\"text-align: right;\">\n",
       "      <th></th>\n",
       "      <th>Ticker</th>\n",
       "      <th>Price</th>\n",
       "      <th>Close</th>\n",
       "      <th>High</th>\n",
       "      <th>Low</th>\n",
       "      <th>Open</th>\n",
       "      <th>Volume</th>\n",
       "    </tr>\n",
       "  </thead>\n",
       "  <tbody>\n",
       "    <tr>\n",
       "      <th>2</th>\n",
       "      <td>VXUS</td>\n",
       "      <td>2015-06-15</td>\n",
       "      <td>38.22300720214844</td>\n",
       "      <td>38.22300720214844</td>\n",
       "      <td>38.007770171413846</td>\n",
       "      <td>38.07456777297815</td>\n",
       "      <td>352700</td>\n",
       "    </tr>\n",
       "    <tr>\n",
       "      <th>3</th>\n",
       "      <td>VXUS</td>\n",
       "      <td>2015-06-16</td>\n",
       "      <td>38.23041534423828</td>\n",
       "      <td>38.24525956540496</td>\n",
       "      <td>38.00775768922949</td>\n",
       "      <td>38.0745552688567</td>\n",
       "      <td>245900</td>\n",
       "    </tr>\n",
       "    <tr>\n",
       "      <th>4</th>\n",
       "      <td>VXUS</td>\n",
       "      <td>2015-06-17</td>\n",
       "      <td>38.20073699951172</td>\n",
       "      <td>38.28979951220714</td>\n",
       "      <td>37.8444841174838</td>\n",
       "      <td>38.14136010355062</td>\n",
       "      <td>350300</td>\n",
       "    </tr>\n",
       "    <tr>\n",
       "      <th>5</th>\n",
       "      <td>VXUS</td>\n",
       "      <td>2015-06-18</td>\n",
       "      <td>38.5495719909668</td>\n",
       "      <td>38.75738832597309</td>\n",
       "      <td>38.319493563589084</td>\n",
       "      <td>38.35660271336807</td>\n",
       "      <td>275400</td>\n",
       "    </tr>\n",
       "    <tr>\n",
       "      <th>6</th>\n",
       "      <td>VXUS</td>\n",
       "      <td>2015-06-19</td>\n",
       "      <td>38.3714485168457</td>\n",
       "      <td>38.49762019753007</td>\n",
       "      <td>38.3714485168457</td>\n",
       "      <td>38.49019949976789</td>\n",
       "      <td>252100</td>\n",
       "    </tr>\n",
       "  </tbody>\n",
       "</table>\n",
       "</div>"
      ],
      "text/plain": [
       "  Ticker       Price              Close               High  \\\n",
       "2   VXUS  2015-06-15  38.22300720214844  38.22300720214844   \n",
       "3   VXUS  2015-06-16  38.23041534423828  38.24525956540496   \n",
       "4   VXUS  2015-06-17  38.20073699951172  38.28979951220714   \n",
       "5   VXUS  2015-06-18   38.5495719909668  38.75738832597309   \n",
       "6   VXUS  2015-06-19   38.3714485168457  38.49762019753007   \n",
       "\n",
       "                  Low               Open  Volume  \n",
       "2  38.007770171413846  38.07456777297815  352700  \n",
       "3   38.00775768922949   38.0745552688567  245900  \n",
       "4    37.8444841174838  38.14136010355062  350300  \n",
       "5  38.319493563589084  38.35660271336807  275400  \n",
       "6    38.3714485168457  38.49019949976789  252100  "
      ]
     },
     "execution_count": 54,
     "metadata": {},
     "output_type": "execute_result"
    }
   ],
   "source": [
    "df = df.drop([0, 1])\n",
    "df.head()"
   ]
  },
  {
   "cell_type": "code",
   "execution_count": 55,
   "metadata": {},
   "outputs": [
    {
     "data": {
      "application/vnd.microsoft.datawrangler.viewer.v0+json": {
       "columns": [
        {
         "name": "index",
         "rawType": "int64",
         "type": "integer"
        },
        {
         "name": "Ticker",
         "rawType": "object",
         "type": "string"
        },
        {
         "name": "Date",
         "rawType": "object",
         "type": "string"
        },
        {
         "name": "Close",
         "rawType": "object",
         "type": "string"
        },
        {
         "name": "High",
         "rawType": "object",
         "type": "string"
        },
        {
         "name": "Low",
         "rawType": "object",
         "type": "string"
        },
        {
         "name": "Open",
         "rawType": "object",
         "type": "string"
        },
        {
         "name": "Volume",
         "rawType": "object",
         "type": "string"
        }
       ],
       "ref": "9203dd5a-aa7b-447d-8bb1-fd0934375dfe",
       "rows": [
        [
         "2",
         "VXUS",
         "2015-06-15",
         "38.22300720214844",
         "38.22300720214844",
         "38.007770171413846",
         "38.07456777297815",
         "352700"
        ],
        [
         "3",
         "VXUS",
         "2015-06-16",
         "38.23041534423828",
         "38.24525956540496",
         "38.00775768922949",
         "38.0745552688567",
         "245900"
        ],
        [
         "4",
         "VXUS",
         "2015-06-17",
         "38.20073699951172",
         "38.28979951220714",
         "37.8444841174838",
         "38.14136010355062",
         "350300"
        ],
        [
         "5",
         "VXUS",
         "2015-06-18",
         "38.5495719909668",
         "38.75738832597309",
         "38.319493563589084",
         "38.35660271336807",
         "275400"
        ],
        [
         "6",
         "VXUS",
         "2015-06-19",
         "38.3714485168457",
         "38.49762019753007",
         "38.3714485168457",
         "38.49019949976789",
         "252100"
        ]
       ],
       "shape": {
        "columns": 7,
        "rows": 5
       }
      },
      "text/html": [
       "<div>\n",
       "<style scoped>\n",
       "    .dataframe tbody tr th:only-of-type {\n",
       "        vertical-align: middle;\n",
       "    }\n",
       "\n",
       "    .dataframe tbody tr th {\n",
       "        vertical-align: top;\n",
       "    }\n",
       "\n",
       "    .dataframe thead th {\n",
       "        text-align: right;\n",
       "    }\n",
       "</style>\n",
       "<table border=\"1\" class=\"dataframe\">\n",
       "  <thead>\n",
       "    <tr style=\"text-align: right;\">\n",
       "      <th></th>\n",
       "      <th>Ticker</th>\n",
       "      <th>Date</th>\n",
       "      <th>Close</th>\n",
       "      <th>High</th>\n",
       "      <th>Low</th>\n",
       "      <th>Open</th>\n",
       "      <th>Volume</th>\n",
       "    </tr>\n",
       "  </thead>\n",
       "  <tbody>\n",
       "    <tr>\n",
       "      <th>2</th>\n",
       "      <td>VXUS</td>\n",
       "      <td>2015-06-15</td>\n",
       "      <td>38.22300720214844</td>\n",
       "      <td>38.22300720214844</td>\n",
       "      <td>38.007770171413846</td>\n",
       "      <td>38.07456777297815</td>\n",
       "      <td>352700</td>\n",
       "    </tr>\n",
       "    <tr>\n",
       "      <th>3</th>\n",
       "      <td>VXUS</td>\n",
       "      <td>2015-06-16</td>\n",
       "      <td>38.23041534423828</td>\n",
       "      <td>38.24525956540496</td>\n",
       "      <td>38.00775768922949</td>\n",
       "      <td>38.0745552688567</td>\n",
       "      <td>245900</td>\n",
       "    </tr>\n",
       "    <tr>\n",
       "      <th>4</th>\n",
       "      <td>VXUS</td>\n",
       "      <td>2015-06-17</td>\n",
       "      <td>38.20073699951172</td>\n",
       "      <td>38.28979951220714</td>\n",
       "      <td>37.8444841174838</td>\n",
       "      <td>38.14136010355062</td>\n",
       "      <td>350300</td>\n",
       "    </tr>\n",
       "    <tr>\n",
       "      <th>5</th>\n",
       "      <td>VXUS</td>\n",
       "      <td>2015-06-18</td>\n",
       "      <td>38.5495719909668</td>\n",
       "      <td>38.75738832597309</td>\n",
       "      <td>38.319493563589084</td>\n",
       "      <td>38.35660271336807</td>\n",
       "      <td>275400</td>\n",
       "    </tr>\n",
       "    <tr>\n",
       "      <th>6</th>\n",
       "      <td>VXUS</td>\n",
       "      <td>2015-06-19</td>\n",
       "      <td>38.3714485168457</td>\n",
       "      <td>38.49762019753007</td>\n",
       "      <td>38.3714485168457</td>\n",
       "      <td>38.49019949976789</td>\n",
       "      <td>252100</td>\n",
       "    </tr>\n",
       "  </tbody>\n",
       "</table>\n",
       "</div>"
      ],
      "text/plain": [
       "  Ticker        Date              Close               High  \\\n",
       "2   VXUS  2015-06-15  38.22300720214844  38.22300720214844   \n",
       "3   VXUS  2015-06-16  38.23041534423828  38.24525956540496   \n",
       "4   VXUS  2015-06-17  38.20073699951172  38.28979951220714   \n",
       "5   VXUS  2015-06-18   38.5495719909668  38.75738832597309   \n",
       "6   VXUS  2015-06-19   38.3714485168457  38.49762019753007   \n",
       "\n",
       "                  Low               Open  Volume  \n",
       "2  38.007770171413846  38.07456777297815  352700  \n",
       "3   38.00775768922949   38.0745552688567  245900  \n",
       "4    37.8444841174838  38.14136010355062  350300  \n",
       "5  38.319493563589084  38.35660271336807  275400  \n",
       "6    38.3714485168457  38.49019949976789  252100  "
      ]
     },
     "execution_count": 55,
     "metadata": {},
     "output_type": "execute_result"
    }
   ],
   "source": [
    "df.rename(columns={df.columns[1]: 'Date'}, inplace=True)\n",
    "df.head()"
   ]
  },
  {
   "cell_type": "code",
   "execution_count": 56,
   "metadata": {},
   "outputs": [
    {
     "data": {
      "application/vnd.microsoft.datawrangler.viewer.v0+json": {
       "columns": [
        {
         "name": "index",
         "rawType": "int64",
         "type": "integer"
        },
        {
         "name": "Ticker",
         "rawType": "object",
         "type": "string"
        },
        {
         "name": "Date",
         "rawType": "object",
         "type": "string"
        },
        {
         "name": "Close",
         "rawType": "object",
         "type": "string"
        },
        {
         "name": "High",
         "rawType": "object",
         "type": "string"
        },
        {
         "name": "Low",
         "rawType": "object",
         "type": "string"
        },
        {
         "name": "Open",
         "rawType": "object",
         "type": "string"
        },
        {
         "name": "Volume",
         "rawType": "object",
         "type": "string"
        }
       ],
       "ref": "ad1bbc07-4004-4253-8d98-e3c002017671",
       "rows": [
        [
         "2",
         "VXUS",
         "2015-06-15",
         "38.22300720214844",
         "38.22300720214844",
         "38.007770171413846",
         "38.07456777297815",
         "352700"
        ],
        [
         "3",
         "VXUS",
         "2015-06-16",
         "38.23041534423828",
         "38.24525956540496",
         "38.00775768922949",
         "38.0745552688567",
         "245900"
        ],
        [
         "4",
         "VXUS",
         "2015-06-17",
         "38.20073699951172",
         "38.28979951220714",
         "37.8444841174838",
         "38.14136010355062",
         "350300"
        ],
        [
         "5",
         "VXUS",
         "2015-06-18",
         "38.5495719909668",
         "38.75738832597309",
         "38.319493563589084",
         "38.35660271336807",
         "275400"
        ],
        [
         "6",
         "VXUS",
         "2015-06-19",
         "38.3714485168457",
         "38.49762019753007",
         "38.3714485168457",
         "38.49019949976789",
         "252100"
        ]
       ],
       "shape": {
        "columns": 7,
        "rows": 5
       }
      },
      "text/html": [
       "<div>\n",
       "<style scoped>\n",
       "    .dataframe tbody tr th:only-of-type {\n",
       "        vertical-align: middle;\n",
       "    }\n",
       "\n",
       "    .dataframe tbody tr th {\n",
       "        vertical-align: top;\n",
       "    }\n",
       "\n",
       "    .dataframe thead th {\n",
       "        text-align: right;\n",
       "    }\n",
       "</style>\n",
       "<table border=\"1\" class=\"dataframe\">\n",
       "  <thead>\n",
       "    <tr style=\"text-align: right;\">\n",
       "      <th></th>\n",
       "      <th>Ticker</th>\n",
       "      <th>Date</th>\n",
       "      <th>Close</th>\n",
       "      <th>High</th>\n",
       "      <th>Low</th>\n",
       "      <th>Open</th>\n",
       "      <th>Volume</th>\n",
       "    </tr>\n",
       "  </thead>\n",
       "  <tbody>\n",
       "    <tr>\n",
       "      <th>2</th>\n",
       "      <td>VXUS</td>\n",
       "      <td>2015-06-15</td>\n",
       "      <td>38.22300720214844</td>\n",
       "      <td>38.22300720214844</td>\n",
       "      <td>38.007770171413846</td>\n",
       "      <td>38.07456777297815</td>\n",
       "      <td>352700</td>\n",
       "    </tr>\n",
       "    <tr>\n",
       "      <th>3</th>\n",
       "      <td>VXUS</td>\n",
       "      <td>2015-06-16</td>\n",
       "      <td>38.23041534423828</td>\n",
       "      <td>38.24525956540496</td>\n",
       "      <td>38.00775768922949</td>\n",
       "      <td>38.0745552688567</td>\n",
       "      <td>245900</td>\n",
       "    </tr>\n",
       "    <tr>\n",
       "      <th>4</th>\n",
       "      <td>VXUS</td>\n",
       "      <td>2015-06-17</td>\n",
       "      <td>38.20073699951172</td>\n",
       "      <td>38.28979951220714</td>\n",
       "      <td>37.8444841174838</td>\n",
       "      <td>38.14136010355062</td>\n",
       "      <td>350300</td>\n",
       "    </tr>\n",
       "    <tr>\n",
       "      <th>5</th>\n",
       "      <td>VXUS</td>\n",
       "      <td>2015-06-18</td>\n",
       "      <td>38.5495719909668</td>\n",
       "      <td>38.75738832597309</td>\n",
       "      <td>38.319493563589084</td>\n",
       "      <td>38.35660271336807</td>\n",
       "      <td>275400</td>\n",
       "    </tr>\n",
       "    <tr>\n",
       "      <th>6</th>\n",
       "      <td>VXUS</td>\n",
       "      <td>2015-06-19</td>\n",
       "      <td>38.3714485168457</td>\n",
       "      <td>38.49762019753007</td>\n",
       "      <td>38.3714485168457</td>\n",
       "      <td>38.49019949976789</td>\n",
       "      <td>252100</td>\n",
       "    </tr>\n",
       "  </tbody>\n",
       "</table>\n",
       "</div>"
      ],
      "text/plain": [
       "  Ticker        Date              Close               High  \\\n",
       "2   VXUS  2015-06-15  38.22300720214844  38.22300720214844   \n",
       "3   VXUS  2015-06-16  38.23041534423828  38.24525956540496   \n",
       "4   VXUS  2015-06-17  38.20073699951172  38.28979951220714   \n",
       "5   VXUS  2015-06-18   38.5495719909668  38.75738832597309   \n",
       "6   VXUS  2015-06-19   38.3714485168457  38.49762019753007   \n",
       "\n",
       "                  Low               Open  Volume  \n",
       "2  38.007770171413846  38.07456777297815  352700  \n",
       "3   38.00775768922949   38.0745552688567  245900  \n",
       "4    37.8444841174838  38.14136010355062  350300  \n",
       "5  38.319493563589084  38.35660271336807  275400  \n",
       "6    38.3714485168457  38.49019949976789  252100  "
      ]
     },
     "execution_count": 56,
     "metadata": {},
     "output_type": "execute_result"
    }
   ],
   "source": [
    "# i want to save it back to the same location\n",
    "df.to_csv('/Users/imperator/Documents/STUDIES/UNIVERSITY OF GHANA/RESEARCH WORK/CORCHIL KELLY KWAME/PORTFOLIO OPTIMIZATION/PROJECT CODE/Dimensionality-Reduction-PortfolioOptimization/EDA/ETFs_datasets/RAW/ETFS/VXUS_historical_data.csv', index=False)\n",
    "df.head()"
   ]
  },
  {
   "cell_type": "markdown",
   "metadata": {},
   "source": [
    "### CONCATENATING ALL THE CSVs AS ONE UNIFIED SHEET"
   ]
  },
  {
   "cell_type": "markdown",
   "metadata": {},
   "source": []
  },
  {
   "cell_type": "code",
   "execution_count": 58,
   "metadata": {},
   "outputs": [
    {
     "name": "stdout",
     "output_type": "stream",
     "text": [
      "Combined CSV saved to: /Users/imperator/Documents/STUDIES/UNIVERSITY OF GHANA/RESEARCH WORK/CORCHIL KELLY KWAME/PORTFOLIO OPTIMIZATION/PROJECT CODE/Dimensionality-Reduction-PortfolioOptimization/EDA/ETFs_datasets/Final_csv/combined_etfs.csv\n"
     ]
    }
   ],
   "source": [
    "import os\n",
    "import pandas as pd\n",
    "\n",
    "# Folder containing the CSV files\n",
    "folder_path = '/Users/imperator/Documents/STUDIES/UNIVERSITY OF GHANA/RESEARCH WORK/CORCHIL KELLY KWAME/PORTFOLIO OPTIMIZATION/PROJECT CODE/Dimensionality-Reduction-PortfolioOptimization/EDA/ETFs_datasets/RAW/ETFS'\n",
    "\n",
    "dataframes = []\n",
    "\n",
    "# Flag to track if the first file has been processed\n",
    "first_file = True\n",
    "\n",
    "# Iterate through all CSV files in the folder\n",
    "for file in os.listdir(folder_path):\n",
    "    if file.endswith('.csv'):\n",
    "        file_path = os.path.join(folder_path, file)\n",
    "        \n",
    "        # Read the CSV file\n",
    "        if first_file:\n",
    "            # For the first file, keep the header\n",
    "            df = pd.read_csv(file_path)\n",
    "            first_file = False\n",
    "        else:\n",
    "            # For subsequent files, don't keep the header\n",
    "            df = pd.read_csv(file_path, header=None)\n",
    "            df.columns = dataframes[0].columns  # Assign column names from the first CSV\n",
    "            \n",
    "        # Append the DataFrame to the list\n",
    "        dataframes.append(df)\n",
    "\n",
    "# Concatenate all DataFrames\n",
    "merged_df = pd.concat(dataframes, ignore_index=True)\n",
    "\n",
    "# Save the merged DataFrame to a new CSV file\n",
    "new_path = (\"/Users/imperator/Documents/STUDIES/UNIVERSITY OF GHANA/RESEARCH WORK/CORCHIL KELLY KWAME/PORTFOLIO OPTIMIZATION/PROJECT CODE/Dimensionality-Reduction-PortfolioOptimization/EDA/ETFs_datasets/Final_csv\")\n",
    "merged_csv_path = os.path.join(new_path, 'combined_etfs.csv')\n",
    "merged_df.to_csv(merged_csv_path, index=False)\n",
    "\n",
    "print(f\"Combined CSV saved to: {merged_csv_path}\")\n"
   ]
  },
  {
   "cell_type": "code",
   "execution_count": 59,
   "metadata": {},
   "outputs": [
    {
     "name": "stdout",
     "output_type": "stream",
     "text": [
      "<class 'pandas.core.frame.DataFrame'>\n",
      "RangeIndex: 20127 entries, 0 to 20126\n",
      "Data columns (total 7 columns):\n",
      " #   Column  Non-Null Count  Dtype \n",
      "---  ------  --------------  ----- \n",
      " 0   Ticker  20127 non-null  object\n",
      " 1   Date    20127 non-null  object\n",
      " 2   Close   20127 non-null  object\n",
      " 3   High    20127 non-null  object\n",
      " 4   Low     20127 non-null  object\n",
      " 5   Open    20127 non-null  object\n",
      " 6   Volume  20127 non-null  object\n",
      "dtypes: object(7)\n",
      "memory usage: 1.1+ MB\n"
     ]
    }
   ],
   "source": [
    "df = pd.read_csv(merged_csv_path)\n",
    "df.info()"
   ]
  },
  {
   "cell_type": "code",
   "execution_count": 60,
   "metadata": {},
   "outputs": [
    {
     "data": {
      "text/plain": [
       "(20127, 7)"
      ]
     },
     "execution_count": 60,
     "metadata": {},
     "output_type": "execute_result"
    }
   ],
   "source": [
    "df.shape"
   ]
  }
 ],
 "metadata": {
  "kernelspec": {
   "display_name": ".venv",
   "language": "python",
   "name": "python3"
  },
  "language_info": {
   "codemirror_mode": {
    "name": "ipython",
    "version": 3
   },
   "file_extension": ".py",
   "mimetype": "text/x-python",
   "name": "python",
   "nbconvert_exporter": "python",
   "pygments_lexer": "ipython3",
   "version": "3.13.1"
  }
 },
 "nbformat": 4,
 "nbformat_minor": 2
}

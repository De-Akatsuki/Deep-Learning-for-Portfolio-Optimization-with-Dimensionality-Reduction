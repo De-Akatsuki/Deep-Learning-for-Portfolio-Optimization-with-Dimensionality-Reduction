{
 "cells": [
  {
   "cell_type": "code",
   "execution_count": null,
   "metadata": {},
   "outputs": [],
   "source": [
    "#Histograms: Show the distribution of a single variable.\n",
    "\n",
    "\n",
    "df['DailyReturn'].hist(bins=50)\n",
    "plt.title('Distribution of Daily Returns')\n",
    "plt.xlabel('Daily Return')\n",
    "plt.ylabel('Frequency')\n",
    "plt.show()\n"
   ]
  },
  {
   "cell_type": "code",
   "execution_count": null,
   "metadata": {},
   "outputs": [],
   "source": [
    "#Boxplots: Visualize the spread and outliers of a variable.\n",
    "\n",
    "sns.boxplot(x=df['DailyReturn'])\n",
    "plt.title('Boxplot of Daily Returns')\n",
    "plt.show()\n"
   ]
  },
  {
   "cell_type": "code",
   "execution_count": null,
   "metadata": {},
   "outputs": [],
   "source": [
    "# Pairplots: Visualize pairwise relationships and distributions for multiple variables.\n",
    "\n",
    "sns.pairplot(df[['ClosePrice', 'Volume', 'DailyReturn']])\n",
    "plt.show()"
   ]
  },
  {
   "cell_type": "code",
   "execution_count": null,
   "metadata": {},
   "outputs": [],
   "source": [
    "# Violin plots: Combine boxplot and kernel density estimation for richer distribution visualization\n",
    "sns.violinplot(x=df['ETFCategory'], y=df['DailyReturn'])\n",
    "plt.title('Daily Return Distribution by ETF Category')\n",
    "plt.show()\n"
   ]
  },
  {
   "cell_type": "code",
   "execution_count": null,
   "metadata": {},
   "outputs": [],
   "source": [
    "#Scatterplots: Explore relationships between two variables.\n",
    "plt.scatter(df['Volume'], df['DailyReturn'])\n",
    "plt.xlabel('Volume')\n",
    "plt.ylabel('Daily Return')\n",
    "plt.title('Volume vs. Daily Return')\n",
    "plt.show()\n"
   ]
  }
 ],
 "metadata": {
  "language_info": {
   "name": "python"
  }
 },
 "nbformat": 4,
 "nbformat_minor": 2
}
